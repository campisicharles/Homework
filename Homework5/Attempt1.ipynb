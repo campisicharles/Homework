{
 "cells": [
  {
   "cell_type": "code",
   "execution_count": 1,
   "metadata": {},
   "outputs": [
    {
     "data": {
      "text/html": [
       "<div>\n",
       "<style scoped>\n",
       "    .dataframe tbody tr th:only-of-type {\n",
       "        vertical-align: middle;\n",
       "    }\n",
       "\n",
       "    .dataframe tbody tr th {\n",
       "        vertical-align: top;\n",
       "    }\n",
       "\n",
       "    .dataframe thead th {\n",
       "        text-align: right;\n",
       "    }\n",
       "</style>\n",
       "<table border=\"1\" class=\"dataframe\">\n",
       "  <thead>\n",
       "    <tr style=\"text-align: right;\">\n",
       "      <th></th>\n",
       "      <th>city</th>\n",
       "      <th>driver_count</th>\n",
       "      <th>type</th>\n",
       "      <th>date</th>\n",
       "      <th>fare</th>\n",
       "      <th>ride_id</th>\n",
       "    </tr>\n",
       "  </thead>\n",
       "  <tbody>\n",
       "    <tr>\n",
       "      <th>0</th>\n",
       "      <td>Richardfort</td>\n",
       "      <td>38</td>\n",
       "      <td>Urban</td>\n",
       "      <td>2018-02-24 08:40:38</td>\n",
       "      <td>13.93</td>\n",
       "      <td>5628545007794</td>\n",
       "    </tr>\n",
       "    <tr>\n",
       "      <th>1</th>\n",
       "      <td>Richardfort</td>\n",
       "      <td>38</td>\n",
       "      <td>Urban</td>\n",
       "      <td>2018-02-13 12:46:07</td>\n",
       "      <td>14.00</td>\n",
       "      <td>910050116494</td>\n",
       "    </tr>\n",
       "    <tr>\n",
       "      <th>2</th>\n",
       "      <td>Richardfort</td>\n",
       "      <td>38</td>\n",
       "      <td>Urban</td>\n",
       "      <td>2018-02-16 13:52:19</td>\n",
       "      <td>17.92</td>\n",
       "      <td>820639054416</td>\n",
       "    </tr>\n",
       "    <tr>\n",
       "      <th>3</th>\n",
       "      <td>Richardfort</td>\n",
       "      <td>38</td>\n",
       "      <td>Urban</td>\n",
       "      <td>2018-02-01 20:18:28</td>\n",
       "      <td>10.26</td>\n",
       "      <td>9554935945413</td>\n",
       "    </tr>\n",
       "    <tr>\n",
       "      <th>4</th>\n",
       "      <td>Richardfort</td>\n",
       "      <td>38</td>\n",
       "      <td>Urban</td>\n",
       "      <td>2018-04-17 02:26:37</td>\n",
       "      <td>23.00</td>\n",
       "      <td>720020655850</td>\n",
       "    </tr>\n",
       "  </tbody>\n",
       "</table>\n",
       "</div>"
      ],
      "text/plain": [
       "          city  driver_count   type                 date   fare        ride_id\n",
       "0  Richardfort            38  Urban  2018-02-24 08:40:38  13.93  5628545007794\n",
       "1  Richardfort            38  Urban  2018-02-13 12:46:07  14.00   910050116494\n",
       "2  Richardfort            38  Urban  2018-02-16 13:52:19  17.92   820639054416\n",
       "3  Richardfort            38  Urban  2018-02-01 20:18:28  10.26  9554935945413\n",
       "4  Richardfort            38  Urban  2018-04-17 02:26:37  23.00   720020655850"
      ]
     },
     "execution_count": 1,
     "metadata": {},
     "output_type": "execute_result"
    }
   ],
   "source": [
    "%matplotlib inline\n",
    "# Dependencies and Setup\n",
    "import matplotlib.pyplot as plt\n",
    "import pandas as pd\n",
    "import numpy as np\n",
    "\n",
    "# File to Load (Remember to change these)\n",
    "city_data_to_load = \"data/city_data.csv\"\n",
    "ride_data_to_load = \"data/ride_data.csv\"\n",
    "\n",
    "# Read the City and Ride Data\n",
    "city_data = pd.read_csv(city_data_to_load)\n",
    "ride_data = pd.read_csv(ride_data_to_load)\n",
    "\n",
    "# Combine the data into a single dataset\n",
    "# Merge two dataframes using an outer join\n",
    "merge_table = pd.merge(city_data, ride_data, on=\"city\", how=\"outer\")\n",
    "\n",
    "# Display the data table for preview\n",
    "merge_table.head()"
   ]
  },
  {
   "cell_type": "code",
   "execution_count": null,
   "metadata": {
    "scrolled": true
   },
   "outputs": [],
   "source": []
  },
  {
   "cell_type": "markdown",
   "metadata": {},
   "source": [
    "## Bubble Plot of Ride Sharing Data"
   ]
  },
  {
   "cell_type": "code",
   "execution_count": 2,
   "metadata": {},
   "outputs": [],
   "source": [
    "# Obtain the x and y coordinates for each of the three city types"
   ]
  },
  {
   "cell_type": "code",
   "execution_count": 18,
   "metadata": {},
   "outputs": [
    {
     "data": {
      "text/plain": [
       "city\n",
       "Amandaburgh      18\n",
       "Barajasview      22\n",
       "Barronchester    16\n",
       "Bethanyland      18\n",
       "Bradshawfurt     10\n",
       "Name: fare, dtype: int64"
      ]
     },
     "execution_count": 18,
     "metadata": {},
     "output_type": "execute_result"
    }
   ],
   "source": [
    "#Total Number of Rides Per City (?)\n",
    "x_axis = merge_table.groupby(\"city\")[\"fare\"].nunique()\n",
    "x_axis.head()"
   ]
  },
  {
   "cell_type": "code",
   "execution_count": 3,
   "metadata": {},
   "outputs": [
    {
     "data": {
      "text/html": [
       "<div>\n",
       "<style scoped>\n",
       "    .dataframe tbody tr th:only-of-type {\n",
       "        vertical-align: middle;\n",
       "    }\n",
       "\n",
       "    .dataframe tbody tr th {\n",
       "        vertical-align: top;\n",
       "    }\n",
       "\n",
       "    .dataframe thead th {\n",
       "        text-align: right;\n",
       "    }\n",
       "</style>\n",
       "<table border=\"1\" class=\"dataframe\">\n",
       "  <thead>\n",
       "    <tr style=\"text-align: right;\">\n",
       "      <th></th>\n",
       "      <th>city</th>\n",
       "      <th>driver_count</th>\n",
       "      <th>date</th>\n",
       "      <th>fare</th>\n",
       "      <th>ride_id</th>\n",
       "    </tr>\n",
       "    <tr>\n",
       "      <th>type</th>\n",
       "      <th></th>\n",
       "      <th></th>\n",
       "      <th></th>\n",
       "      <th></th>\n",
       "      <th></th>\n",
       "    </tr>\n",
       "  </thead>\n",
       "  <tbody>\n",
       "    <tr>\n",
       "      <th>Rural</th>\n",
       "      <td>125</td>\n",
       "      <td>125</td>\n",
       "      <td>125</td>\n",
       "      <td>125</td>\n",
       "      <td>125</td>\n",
       "    </tr>\n",
       "    <tr>\n",
       "      <th>Suburban</th>\n",
       "      <td>625</td>\n",
       "      <td>625</td>\n",
       "      <td>625</td>\n",
       "      <td>625</td>\n",
       "      <td>625</td>\n",
       "    </tr>\n",
       "    <tr>\n",
       "      <th>Urban</th>\n",
       "      <td>1625</td>\n",
       "      <td>1625</td>\n",
       "      <td>1625</td>\n",
       "      <td>1625</td>\n",
       "      <td>1625</td>\n",
       "    </tr>\n",
       "  </tbody>\n",
       "</table>\n",
       "</div>"
      ],
      "text/plain": [
       "          city  driver_count  date  fare  ride_id\n",
       "type                                             \n",
       "Rural      125           125   125   125      125\n",
       "Suburban   625           625   625   625      625\n",
       "Urban     1625          1625  1625  1625     1625"
      ]
     },
     "execution_count": 3,
     "metadata": {},
     "output_type": "execute_result"
    }
   ],
   "source": [
    "#Average Fare\n",
    "CityType = merge_table.groupby(\"type\")\n",
    "CityType.count()"
   ]
  },
  {
   "cell_type": "code",
   "execution_count": 5,
   "metadata": {},
   "outputs": [
    {
     "data": {
      "text/plain": [
       "type\n",
       "Rural       34.623440\n",
       "Suburban    30.970128\n",
       "Urban       24.525772\n",
       "Name: fare, dtype: float64"
      ]
     },
     "execution_count": 5,
     "metadata": {},
     "output_type": "execute_result"
    }
   ],
   "source": [
    "CityY = CityType[\"fare\"].mean()\n",
    "CityY"
   ]
  },
  {
   "cell_type": "code",
   "execution_count": 67,
   "metadata": {},
   "outputs": [
    {
     "data": {
      "text/plain": [
       "city\n",
       "Amandaburgh      [12]\n",
       "Barajasview      [26]\n",
       "Barronchester    [11]\n",
       "Bethanyland      [22]\n",
       "Bradshawfurt      [7]\n",
       "Name: driver_count, dtype: object"
      ]
     },
     "execution_count": 67,
     "metadata": {},
     "output_type": "execute_result"
    }
   ],
   "source": [
    "#Total Number of drivers per city\n",
    "drivercity = merge_table.groupby(\"city\")[\"driver_count\"].unique()\n",
    "drivercity.head()\n"
   ]
  },
  {
   "cell_type": "code",
   "execution_count": 7,
   "metadata": {},
   "outputs": [],
   "source": [
    "# Build the scatter plots for each city types\n"
   ]
  },
  {
   "cell_type": "code",
   "execution_count": 8,
   "metadata": {},
   "outputs": [],
   "source": [
    "# Incorporate the other graph properties\n"
   ]
  },
  {
   "cell_type": "code",
   "execution_count": 9,
   "metadata": {},
   "outputs": [],
   "source": [
    "# Create a legend\n",
    "#plt.legend(handles=[Urban, Suburban, Rural], loc=\"best\")"
   ]
  },
  {
   "cell_type": "code",
   "execution_count": 10,
   "metadata": {},
   "outputs": [],
   "source": [
    "# Incorporate a text label regarding circle size\n"
   ]
  },
  {
   "cell_type": "code",
   "execution_count": 11,
   "metadata": {},
   "outputs": [],
   "source": [
    "# Save Figure\n",
    "#plt.savefig(\"../data/ridesharebubble.png\")\n"
   ]
  },
  {
   "cell_type": "code",
   "execution_count": 12,
   "metadata": {},
   "outputs": [],
   "source": [
    "# Show plot\n",
    "plt.show()"
   ]
  },
  {
   "cell_type": "markdown",
   "metadata": {},
   "source": [
    "## Total Fares by City Type"
   ]
  },
  {
   "cell_type": "code",
   "execution_count": 20,
   "metadata": {},
   "outputs": [
    {
     "data": {
      "text/plain": [
       "type\n",
       "Rural        4327.93\n",
       "Suburban    19356.33\n",
       "Urban       39854.38\n",
       "Name: fare, dtype: float64"
      ]
     },
     "execution_count": 20,
     "metadata": {},
     "output_type": "execute_result"
    }
   ],
   "source": [
    "# Calculate Type Percents\n",
    "TotalFares = CityType[\"fare\"].sum()\n",
    "TotalFares\n",
    "\n",
    "\n",
    "\n"
   ]
  },
  {
   "cell_type": "code",
   "execution_count": 21,
   "metadata": {},
   "outputs": [
    {
     "data": {
      "text/plain": [
       "63538.64"
      ]
     },
     "execution_count": 21,
     "metadata": {},
     "output_type": "execute_result"
    }
   ],
   "source": [
    "CityRides = merge_table[\"fare\"].sum()\n",
    "CityRides"
   ]
  },
  {
   "cell_type": "code",
   "execution_count": 22,
   "metadata": {},
   "outputs": [
    {
     "data": {
      "text/plain": [
       "6.811492974983412"
      ]
     },
     "execution_count": 22,
     "metadata": {},
     "output_type": "execute_result"
    }
   ],
   "source": [
    "#Percent of Fares by Type\n",
    "RuralFares = (TotalFares[\"Rural\"] / CityRides)*100\n",
    "RuralFares"
   ]
  },
  {
   "cell_type": "code",
   "execution_count": 23,
   "metadata": {},
   "outputs": [
    {
     "data": {
      "text/plain": [
       "30.46387206273221"
      ]
     },
     "execution_count": 23,
     "metadata": {},
     "output_type": "execute_result"
    }
   ],
   "source": [
    "SuburbanFares = (TotalFares[\"Suburban\"] / CityRides)*100\n",
    "SuburbanFares"
   ]
  },
  {
   "cell_type": "code",
   "execution_count": 24,
   "metadata": {},
   "outputs": [
    {
     "data": {
      "text/plain": [
       "62.72463496228436"
      ]
     },
     "execution_count": 24,
     "metadata": {},
     "output_type": "execute_result"
    }
   ],
   "source": [
    "UrbanFares = (TotalFares[\"Urban\"] / CityRides)*100\n",
    "UrbanFares"
   ]
  },
  {
   "cell_type": "code",
   "execution_count": 25,
   "metadata": {},
   "outputs": [
    {
     "data": {
      "text/plain": [
       "0     6.811493\n",
       "1    30.463872\n",
       "2    62.724635\n",
       "Name: Percentage of Fares, dtype: float64"
      ]
     },
     "execution_count": 25,
     "metadata": {},
     "output_type": "execute_result"
    }
   ],
   "source": [
    "summary_tablefares = pd.DataFrame({\"Percentage of Fares\": [RuralFares, SuburbanFares, UrbanFares]})\n",
    "summary_tablefares = summary_tablefares[summary_tablefares.columns[0]]\n",
    "summary_tablefares"
   ]
  },
  {
   "cell_type": "code",
   "execution_count": null,
   "metadata": {},
   "outputs": [],
   "source": []
  },
  {
   "cell_type": "code",
   "execution_count": 26,
   "metadata": {
    "scrolled": true
   },
   "outputs": [
    {
     "data": {
      "text/plain": [
       "(-1.116703108059631,\n",
       " 1.197266450606346,\n",
       " -1.1123788383456472,\n",
       " 1.1610996829807194)"
      ]
     },
     "execution_count": 26,
     "metadata": {},
     "output_type": "execute_result"
    },
    {
     "data": {
      "image/png": "[encoded data removed]",
      "text/plain": [
       "<Figure size 432x288 with 1 Axes>"
      ]
     },
     "metadata": {},
     "output_type": "display_data"
    }
   ],
   "source": [
    "# Build Pie Chart\n",
    "# Tell matplotlib to create a pie chart based upon the above data\n",
    "labels = [\"Rural\", \"Suburban\", \"Urban\"]\n",
    "colors = [\"yellow\",\"lightskyblue\",\"lightcoral\"]\n",
    "explode = (0,0,0.1,)\n",
    "plt.pie(summary_tablefares, explode=explode, labels=labels, colors=colors, autopct=\"%1.1f%%\", shadow=True,  startangle=140)\n",
    "# Create axes which are equal so we have a perfect circle\n",
    "plt.axis(\"equal\")"
   ]
  },
  {
   "cell_type": "code",
   "execution_count": 20,
   "metadata": {},
   "outputs": [],
   "source": [
    "# Save Figure\n",
    "#plt.savefig(\"../data/ridesharefare.png\")"
   ]
  },
  {
   "cell_type": "code",
   "execution_count": 21,
   "metadata": {},
   "outputs": [],
   "source": [
    "# Show Figure\n",
    "plt.show()"
   ]
  },
  {
   "cell_type": "code",
   "execution_count": 22,
   "metadata": {},
   "outputs": [],
   "source": [
    "#LEAVE THIS AS EXAMPLE"
   ]
  },
  {
   "cell_type": "code",
   "execution_count": null,
   "metadata": {},
   "outputs": [],
   "source": []
  },
  {
   "cell_type": "markdown",
   "metadata": {},
   "source": [
    "## Total Rides by City Type"
   ]
  },
  {
   "cell_type": "code",
   "execution_count": 27,
   "metadata": {},
   "outputs": [
    {
     "data": {
      "text/plain": [
       "type      city               \n",
       "Rural     Michaelberg            12\n",
       "          Lake Latoyabury        11\n",
       "          Bradshawfurt           10\n",
       "          North Holly             9\n",
       "          West Heather            9\n",
       "          North Jaime             8\n",
       "          South Marychester       8\n",
       "          South Jennifer          7\n",
       "          Harringtonfort          6\n",
       "          Jessicaport             6\n",
       "          Lake Jamie              6\n",
       "          New Ryantown            6\n",
       "          Taylorhaven             6\n",
       "          Penaborough             5\n",
       "          Randallchester          5\n",
       "          Newtonview              4\n",
       "          South Saramouth         4\n",
       "          Garzaport               3\n",
       "Suburban  East Marymouth         27\n",
       "          Josephside             27\n",
       "          Lake Robertside        25\n",
       "          South Brenda           24\n",
       "          Colemanland            22\n",
       "          New Raymond            22\n",
       "          South Teresa           22\n",
       "          West Hannah            21\n",
       "          West Kimmouth          20\n",
       "          Brandonfort            19\n",
       "          Nicolechester          19\n",
       "          Port Shane             19\n",
       "                                 ..\n",
       "Urban     Roberthaven            24\n",
       "          Simpsonburgh           24\n",
       "          Rodneyfort             23\n",
       "          West Gabriel           23\n",
       "          Williamsstad           23\n",
       "          Barajasview            22\n",
       "          New Paulville          22\n",
       "          North Barbara          22\n",
       "          Port David             22\n",
       "          Port Johnbury          22\n",
       "          Rogerston              22\n",
       "          Valentineton           22\n",
       "          Johnton                21\n",
       "          Leahton                21\n",
       "          Pattyland              21\n",
       "          Robertport             20\n",
       "          Williamsview           20\n",
       "          Deanville              19\n",
       "          New Paulton            19\n",
       "          Port Angela            19\n",
       "          Reynoldsfurt           19\n",
       "          South Jack             19\n",
       "          South Latoya           19\n",
       "          Amandaburgh            18\n",
       "          New Jacobville         18\n",
       "          West Ericstad          18\n",
       "          Karenberg              17\n",
       "          West Patrickchester    16\n",
       "          North Markport         14\n",
       "          Erikaland              12\n",
       "Name: city, Length: 120, dtype: int64"
      ]
     },
     "execution_count": 27,
     "metadata": {},
     "output_type": "execute_result"
    }
   ],
   "source": [
    "# Calculate Ride Percents\n",
    "RidesbyCity = merge_table.groupby(\"type\")[\"city\"].value_counts()\n",
    "RidesbyCity\n"
   ]
  },
  {
   "cell_type": "code",
   "execution_count": 28,
   "metadata": {},
   "outputs": [
    {
     "data": {
      "text/plain": [
       "2375"
      ]
     },
     "execution_count": 28,
     "metadata": {},
     "output_type": "execute_result"
    }
   ],
   "source": [
    "TotalRides = RidesbyCity.sum()\n",
    "TotalRides"
   ]
  },
  {
   "cell_type": "code",
   "execution_count": 29,
   "metadata": {},
   "outputs": [
    {
     "data": {
      "text/plain": [
       "city\n",
       "Michaelberg        0.505263\n",
       "Lake Latoyabury    0.463158\n",
       "Bradshawfurt       0.421053\n",
       "North Holly        0.378947\n",
       "West Heather       0.378947\n",
       "Name: city, dtype: float64"
      ]
     },
     "execution_count": 29,
     "metadata": {},
     "output_type": "execute_result"
    }
   ],
   "source": [
    "RuralRides = (RidesbyCity[\"Rural\"] / TotalRides)*100\n",
    "RuralRides.head()"
   ]
  },
  {
   "cell_type": "code",
   "execution_count": 31,
   "metadata": {},
   "outputs": [
    {
     "data": {
      "text/plain": [
       "city\n",
       "East Marymouth     1.136842\n",
       "Josephside         1.136842\n",
       "Lake Robertside    1.052632\n",
       "South Brenda       1.010526\n",
       "Colemanland        0.926316\n",
       "Name: city, dtype: float64"
      ]
     },
     "execution_count": 31,
     "metadata": {},
     "output_type": "execute_result"
    }
   ],
   "source": [
    "SuburbanRides = (RidesbyCity[\"Suburban\"] / TotalRides)*100\n",
    "SuburbanRides.head()"
   ]
  },
  {
   "cell_type": "code",
   "execution_count": 32,
   "metadata": {},
   "outputs": [
    {
     "data": {
      "text/plain": [
       "city\n",
       "West Angela        1.642105\n",
       "South Karenland    1.600000\n",
       "North Jason        1.473684\n",
       "Liumouth           1.389474\n",
       "Port Frank         1.389474\n",
       "Name: city, dtype: float64"
      ]
     },
     "execution_count": 32,
     "metadata": {},
     "output_type": "execute_result"
    }
   ],
   "source": [
    "UrbanRides = (RidesbyCity[\"Urban\"] / TotalRides)*100\n",
    "UrbanRides.head()"
   ]
  },
  {
   "cell_type": "code",
   "execution_count": 33,
   "metadata": {},
   "outputs": [
    {
     "data": {
      "text/plain": [
       "5.263157894736842"
      ]
     },
     "execution_count": 33,
     "metadata": {},
     "output_type": "execute_result"
    }
   ],
   "source": [
    "TotRuralRides = RuralRides.sum()\n",
    "TotRuralRides"
   ]
  },
  {
   "cell_type": "code",
   "execution_count": 34,
   "metadata": {},
   "outputs": [
    {
     "data": {
      "text/plain": [
       "26.315789473684212"
      ]
     },
     "execution_count": 34,
     "metadata": {},
     "output_type": "execute_result"
    }
   ],
   "source": [
    "TotSuburbanRides = SuburbanRides.sum()\n",
    "TotSuburbanRides"
   ]
  },
  {
   "cell_type": "code",
   "execution_count": 35,
   "metadata": {},
   "outputs": [
    {
     "data": {
      "text/plain": [
       "68.42105263157895"
      ]
     },
     "execution_count": 35,
     "metadata": {},
     "output_type": "execute_result"
    }
   ],
   "source": [
    "TotUrbanRides = UrbanRides.sum()\n",
    "TotUrbanRides"
   ]
  },
  {
   "cell_type": "code",
   "execution_count": 36,
   "metadata": {},
   "outputs": [
    {
     "data": {
      "text/plain": [
       "0     5.263158\n",
       "1    26.315789\n",
       "2    68.421053\n",
       "Name: Percentage of Rides by City Type, dtype: float64"
      ]
     },
     "execution_count": 36,
     "metadata": {},
     "output_type": "execute_result"
    }
   ],
   "source": [
    "summary_tablerides = pd.DataFrame({\"Percentage of Rides by City Type\": [TotRuralRides, TotSuburbanRides, TotUrbanRides]})\n",
    "summary_tablerides = summary_tablerides[summary_tablerides.columns[0]]\n",
    "summary_tablerides"
   ]
  },
  {
   "cell_type": "code",
   "execution_count": 37,
   "metadata": {},
   "outputs": [
    {
     "data": {
      "text/plain": [
       "(-1.1110420108142822,\n",
       " 1.215408844786391,\n",
       " -1.085782351148256,\n",
       " 1.1462471637001541)"
      ]
     },
     "execution_count": 37,
     "metadata": {},
     "output_type": "execute_result"
    },
    {
     "data": {
      "image/png": "[encoded data removed]",
      "text/plain": [
       "<Figure size 432x288 with 1 Axes>"
      ]
     },
     "metadata": {},
     "output_type": "display_data"
    }
   ],
   "source": [
    "# Build Pie Chart\n",
    "# Tell matplotlib to create a pie chart based upon the above data\n",
    "labels = [\"Rural\", \"Suburban\", \"Urban\"]\n",
    "colors = [\"yellow\",\"lightskyblue\",\"lightcoral\"]\n",
    "explode = (0,0,0.1)\n",
    "plt.pie(summary_tablerides, explode=explode, labels=labels, colors=colors,\n",
    "        autopct=\"%1.1f%%\", shadow=True, startangle=140)\n",
    "# Create axes which are equal so we have a perfect circle\n",
    "plt.axis(\"equal\")\n"
   ]
  },
  {
   "cell_type": "code",
   "execution_count": 33,
   "metadata": {},
   "outputs": [],
   "source": [
    "# Save Figure\n",
    "#plt.savefig(\"../data/ridesharetotrides.png\")"
   ]
  },
  {
   "cell_type": "code",
   "execution_count": 34,
   "metadata": {},
   "outputs": [],
   "source": [
    "# Show Figure\n",
    "plt.show()"
   ]
  },
  {
   "cell_type": "markdown",
   "metadata": {},
   "source": [
    "## Total Drivers by City Type"
   ]
  },
  {
   "cell_type": "code",
   "execution_count": 68,
   "metadata": {},
   "outputs": [
    {
     "data": {
      "text/plain": [
       "0      38\n",
       "1      59\n",
       "2      67\n",
       "3      34\n",
       "4      39\n",
       "5      70\n",
       "6      48\n",
       "7      25\n",
       "8      22\n",
       "9      26\n",
       "10     12\n",
       "11     39\n",
       "12     17\n",
       "13     32\n",
       "14     27\n",
       "15     67\n",
       "16      7\n",
       "17     33\n",
       "18     52\n",
       "19     25\n",
       "20     64\n",
       "21     23\n",
       "22     21\n",
       "23     23\n",
       "24     10\n",
       "25     73\n",
       "26     61\n",
       "27     25\n",
       "28     19\n",
       "29     46\n",
       "       ..\n",
       "90     11\n",
       "91     10\n",
       "92     22\n",
       "93      5\n",
       "94     14\n",
       "95      4\n",
       "96     25\n",
       "97     23\n",
       "98     19\n",
       "99      7\n",
       "100     1\n",
       "101    11\n",
       "102     7\n",
       "103     4\n",
       "104     1\n",
       "105     8\n",
       "106     6\n",
       "107     1\n",
       "108     6\n",
       "109     4\n",
       "110     4\n",
       "111     2\n",
       "112     1\n",
       "113     1\n",
       "114     7\n",
       "115     7\n",
       "116     2\n",
       "117     9\n",
       "118     1\n",
       "119     7\n",
       "Name: driver_count, Length: 120, dtype: int64"
      ]
     },
     "execution_count": 68,
     "metadata": {},
     "output_type": "execute_result"
    }
   ],
   "source": [
    "# Calculate Driver Percents\n",
    "DriversbyType = city_data[\"driver_count\"]\n",
    "DriversbyType\n",
    "\n",
    "#Alex said this answer was better since it removed duplicates"
   ]
  },
  {
   "cell_type": "code",
   "execution_count": 4,
   "metadata": {},
   "outputs": [
    {
     "data": {
      "text/plain": [
       "70"
      ]
     },
     "execution_count": 4,
     "metadata": {},
     "output_type": "execute_result"
    }
   ],
   "source": [
    "TotalDrivers = DriversbyType.sum()\n",
    "TotalDrivers"
   ]
  },
  {
   "cell_type": "code",
   "execution_count": 5,
   "metadata": {},
   "outputs": [
    {
     "data": {
      "text/plain": [
       "10.0"
      ]
     },
     "execution_count": 5,
     "metadata": {},
     "output_type": "execute_result"
    }
   ],
   "source": [
    "RuralDrivers = (DriversbyType[\"Rural\"] /TotalDrivers)*100\n",
    "RuralDrivers"
   ]
  },
  {
   "cell_type": "code",
   "execution_count": 6,
   "metadata": {},
   "outputs": [
    {
     "data": {
      "text/plain": [
       "25.71428571428571"
      ]
     },
     "execution_count": 6,
     "metadata": {},
     "output_type": "execute_result"
    }
   ],
   "source": [
    "SuburbanDrivers = (DriversbyType[\"Suburban\"] /TotalDrivers)*100\n",
    "SuburbanDrivers"
   ]
  },
  {
   "cell_type": "code",
   "execution_count": 7,
   "metadata": {},
   "outputs": [
    {
     "data": {
      "text/plain": [
       "64.28571428571429"
      ]
     },
     "execution_count": 7,
     "metadata": {},
     "output_type": "execute_result"
    }
   ],
   "source": [
    "UrbanDrivers = (DriversbyType[\"Urban\"] /TotalDrivers)*100\n",
    "UrbanDrivers"
   ]
  },
  {
   "cell_type": "code",
   "execution_count": 11,
   "metadata": {},
   "outputs": [
    {
     "data": {
      "text/plain": [
       "0    10.000000\n",
       "1    25.714286\n",
       "2    64.285714\n",
       "Name: Percentage of Drivers by City Type, dtype: float64"
      ]
     },
     "execution_count": 11,
     "metadata": {},
     "output_type": "execute_result"
    }
   ],
   "source": [
    "# Build Pie Charts\n",
    "summary_tabledrivers = pd.DataFrame({\"Percentage of Drivers by City Type\": [RuralDrivers, SuburbanDrivers, UrbanDrivers]})\n",
    "summary_tabledrivers = summary_tabledrivers[summary_tabledrivers.columns[0]]\n",
    "summary_tabledrivers"
   ]
  },
  {
   "cell_type": "code",
   "execution_count": 38,
   "metadata": {},
   "outputs": [
    {
     "data": {
      "text/plain": [
       "(-1.1124154412809915,\n",
       " 1.2069916649936634,\n",
       " -1.1024171061450565,\n",
       " 1.1575972727122696)"
      ]
     },
     "execution_count": 38,
     "metadata": {},
     "output_type": "execute_result"
    },
    {
     "data": {
      "image/png": "[encoded data removed]",
      "text/plain": [
       "<Figure size 432x288 with 1 Axes>"
      ]
     },
     "metadata": {},
     "output_type": "display_data"
    }
   ],
   "source": [
    "# Build Pie Chart\n",
    "# SAME AS ABOVE, SO PAY ATTENTION TO ERRORS\n",
    "# Tell matplotlib to create a pie chart based upon the above data\n",
    "labels = [\"Rural\", \"Suburban\", \"Urban\"]\n",
    "colors = [\"yellow\",\"lightskyblue\",\"lightcoral\"]\n",
    "explode = (0,0,0.1)\n",
    "plt.pie(summary_tabledrivers, explode=explode, labels=labels, colors=colors,\n",
    "        autopct=\"%1.1f%%\", shadow=True, startangle=140)\n",
    "# Create axes which are equal so we have a perfect circle\n",
    "plt.axis(\"equal\")"
   ]
  },
  {
   "cell_type": "code",
   "execution_count": 39,
   "metadata": {},
   "outputs": [],
   "source": [
    "# Save Figure\n",
    "#plt.savefig(\"../data/ridesharetotdrive.png\")"
   ]
  },
  {
   "cell_type": "code",
   "execution_count": 40,
   "metadata": {
    "scrolled": true
   },
   "outputs": [],
   "source": [
    "# Show Figure\n",
    "plt.show()"
   ]
  },
  {
   "cell_type": "code",
   "execution_count": null,
   "metadata": {},
   "outputs": [],
   "source": []
  }
 ],
 "metadata": {
  "anaconda-cloud": {},
  "kernelspec": {
   "display_name": "Python 3",
   "language": "python",
   "name": "python3"
  },
  "language_info": {
   "codemirror_mode": {
    "name": "ipython",
    "version": 3
   },
   "file_extension": ".py",
   "mimetype": "text/x-python",
   "name": "python",
   "nbconvert_exporter": "python",
   "pygments_lexer": "ipython3",
   "version": "3.7.3"
  }
 },
 "nbformat": 4,
 "nbformat_minor": 2
}
