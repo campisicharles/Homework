{
 "cells": [
  {
   "cell_type": "code",
   "execution_count": 1,
   "metadata": {},
   "outputs": [
    {
     "data": {
      "text/html": [
       "<div>\n",
       "<style scoped>\n",
       "    .dataframe tbody tr th:only-of-type {\n",
       "        vertical-align: middle;\n",
       "    }\n",
       "\n",
       "    .dataframe tbody tr th {\n",
       "        vertical-align: top;\n",
       "    }\n",
       "\n",
       "    .dataframe thead th {\n",
       "        text-align: right;\n",
       "    }\n",
       "</style>\n",
       "<table border=\"1\" class=\"dataframe\">\n",
       "  <thead>\n",
       "    <tr style=\"text-align: right;\">\n",
       "      <th></th>\n",
       "      <th>city</th>\n",
       "      <th>driver_count</th>\n",
       "      <th>type</th>\n",
       "      <th>date</th>\n",
       "      <th>fare</th>\n",
       "      <th>ride_id</th>\n",
       "    </tr>\n",
       "  </thead>\n",
       "  <tbody>\n",
       "    <tr>\n",
       "      <th>0</th>\n",
       "      <td>Richardfort</td>\n",
       "      <td>38</td>\n",
       "      <td>Urban</td>\n",
       "      <td>2018-02-24 08:40:38</td>\n",
       "      <td>13.93</td>\n",
       "      <td>5628545007794</td>\n",
       "    </tr>\n",
       "    <tr>\n",
       "      <th>1</th>\n",
       "      <td>Richardfort</td>\n",
       "      <td>38</td>\n",
       "      <td>Urban</td>\n",
       "      <td>2018-02-13 12:46:07</td>\n",
       "      <td>14.00</td>\n",
       "      <td>910050116494</td>\n",
       "    </tr>\n",
       "    <tr>\n",
       "      <th>2</th>\n",
       "      <td>Richardfort</td>\n",
       "      <td>38</td>\n",
       "      <td>Urban</td>\n",
       "      <td>2018-02-16 13:52:19</td>\n",
       "      <td>17.92</td>\n",
       "      <td>820639054416</td>\n",
       "    </tr>\n",
       "    <tr>\n",
       "      <th>3</th>\n",
       "      <td>Richardfort</td>\n",
       "      <td>38</td>\n",
       "      <td>Urban</td>\n",
       "      <td>2018-02-01 20:18:28</td>\n",
       "      <td>10.26</td>\n",
       "      <td>9554935945413</td>\n",
       "    </tr>\n",
       "    <tr>\n",
       "      <th>4</th>\n",
       "      <td>Richardfort</td>\n",
       "      <td>38</td>\n",
       "      <td>Urban</td>\n",
       "      <td>2018-04-17 02:26:37</td>\n",
       "      <td>23.00</td>\n",
       "      <td>720020655850</td>\n",
       "    </tr>\n",
       "  </tbody>\n",
       "</table>\n",
       "</div>"
      ],
      "text/plain": [
       "          city  driver_count   type                 date   fare        ride_id\n",
       "0  Richardfort            38  Urban  2018-02-24 08:40:38  13.93  5628545007794\n",
       "1  Richardfort            38  Urban  2018-02-13 12:46:07  14.00   910050116494\n",
       "2  Richardfort            38  Urban  2018-02-16 13:52:19  17.92   820639054416\n",
       "3  Richardfort            38  Urban  2018-02-01 20:18:28  10.26  9554935945413\n",
       "4  Richardfort            38  Urban  2018-04-17 02:26:37  23.00   720020655850"
      ]
     },
     "execution_count": 1,
     "metadata": {},
     "output_type": "execute_result"
    }
   ],
   "source": [
    "%matplotlib inline\n",
    "# Dependencies and Setup\n",
    "import matplotlib.pyplot as plt\n",
    "import pandas as pd\n",
    "import numpy as np\n",
    "\n",
    "# File to Load (Remember to change these)\n",
    "city_data_to_load = \"data/city_data.csv\"\n",
    "ride_data_to_load = \"data/ride_data.csv\"\n",
    "\n",
    "# Read the City and Ride Data\n",
    "city_data = pd.read_csv(city_data_to_load)\n",
    "ride_data = pd.read_csv(ride_data_to_load)\n",
    "\n",
    "# Combine the data into a single dataset\n",
    "# Merge two dataframes using an outer join\n",
    "merge_table = pd.merge(city_data, ride_data, on=\"city\", how=\"outer\")\n",
    "\n",
    "# Display the data table for preview\n",
    "merge_table.head()"
   ]
  },
  {
   "cell_type": "markdown",
   "metadata": {},
   "source": [
    "## Bubble Plot of Ride Sharing Data"
   ]
  },
  {
   "cell_type": "code",
   "execution_count": 2,
   "metadata": {},
   "outputs": [],
   "source": [
    "# Obtain the x and y coordinates for each of the three city types"
   ]
  },
  {
   "cell_type": "code",
   "execution_count": 3,
   "metadata": {},
   "outputs": [
    {
     "data": {
      "text/plain": [
       "city\n",
       "Amandaburgh      18\n",
       "Barajasview      22\n",
       "Barronchester    16\n",
       "Bethanyland      18\n",
       "Bradshawfurt     10\n",
       "Name: fare, dtype: int64"
      ]
     },
     "execution_count": 3,
     "metadata": {},
     "output_type": "execute_result"
    }
   ],
   "source": [
    "#Total Number of Rides Per City (?)\n",
    "Rides = merge_table.groupby(\"city\")[\"fare\"].nunique()\n",
    "Rides.head()"
   ]
  },
  {
   "cell_type": "code",
   "execution_count": 4,
   "metadata": {},
   "outputs": [
    {
     "data": {
      "text/plain": [
       "city\n",
       "Amandaburgh      24.641667\n",
       "Barajasview      25.332273\n",
       "Barronchester    36.422500\n",
       "Bethanyland      32.956111\n",
       "Bradshawfurt     40.064000\n",
       "Name: fare, dtype: float64"
      ]
     },
     "execution_count": 4,
     "metadata": {},
     "output_type": "execute_result"
    }
   ],
   "source": [
    "#Average Fare\n",
    "CityType = merge_table.groupby(\"city\")\n",
    "AvgFare = CityType[\"fare\"].mean()\n",
    "AvgFare.head()"
   ]
  },
  {
   "cell_type": "code",
   "execution_count": 5,
   "metadata": {},
   "outputs": [
    {
     "data": {
      "text/plain": [
       "city\n",
       "Amandaburgh      12.0\n",
       "Barajasview      26.0\n",
       "Barronchester    11.0\n",
       "Bethanyland      22.0\n",
       "Bradshawfurt      7.0\n",
       "dtype: float64"
      ]
     },
     "execution_count": 5,
     "metadata": {},
     "output_type": "execute_result"
    }
   ],
   "source": [
    "#Total Number of drivers per city\n",
    "Driver = merge_table.groupby(\"city\")\n",
    "CityDriver = Driver[\"driver_count\"].sum()/Rides\n",
    "CityDriver.head()\n"
   ]
  },
  {
   "cell_type": "code",
   "execution_count": 6,
   "metadata": {},
   "outputs": [
    {
     "data": {
      "text/plain": [
       "city\n",
       "Richardfort     Urban\n",
       "Williamsstad    Urban\n",
       "Port Angela     Urban\n",
       "Rodneyfort      Urban\n",
       "West Robert     Urban\n",
       "Name: type, dtype: object"
      ]
     },
     "execution_count": 6,
     "metadata": {},
     "output_type": "execute_result"
    }
   ],
   "source": [
    "# Gotta do a city type\n",
    "Type = city_data.set_index('city')['type']\n",
    "Type.head()\n",
    "#took me forever to figure this out and find out how to do this\n",
    "#not sure I could do it if the city_data had duplicates"
   ]
  },
  {
   "cell_type": "code",
   "execution_count": 7,
   "metadata": {},
   "outputs": [
    {
     "data": {
      "text/html": [
       "<div>\n",
       "<style scoped>\n",
       "    .dataframe tbody tr th:only-of-type {\n",
       "        vertical-align: middle;\n",
       "    }\n",
       "\n",
       "    .dataframe tbody tr th {\n",
       "        vertical-align: top;\n",
       "    }\n",
       "\n",
       "    .dataframe thead th {\n",
       "        text-align: right;\n",
       "    }\n",
       "</style>\n",
       "<table border=\"1\" class=\"dataframe\">\n",
       "  <thead>\n",
       "    <tr style=\"text-align: right;\">\n",
       "      <th></th>\n",
       "      <th>Number of Rides</th>\n",
       "      <th>Average Fare</th>\n",
       "      <th>Number of Drivers</th>\n",
       "      <th>Type of City</th>\n",
       "    </tr>\n",
       "  </thead>\n",
       "  <tbody>\n",
       "    <tr>\n",
       "      <th>Amandaburgh</th>\n",
       "      <td>18</td>\n",
       "      <td>24.641667</td>\n",
       "      <td>12.0</td>\n",
       "      <td>Urban</td>\n",
       "    </tr>\n",
       "    <tr>\n",
       "      <th>Barajasview</th>\n",
       "      <td>22</td>\n",
       "      <td>25.332273</td>\n",
       "      <td>26.0</td>\n",
       "      <td>Urban</td>\n",
       "    </tr>\n",
       "    <tr>\n",
       "      <th>Barronchester</th>\n",
       "      <td>16</td>\n",
       "      <td>36.422500</td>\n",
       "      <td>11.0</td>\n",
       "      <td>Suburban</td>\n",
       "    </tr>\n",
       "    <tr>\n",
       "      <th>Bethanyland</th>\n",
       "      <td>18</td>\n",
       "      <td>32.956111</td>\n",
       "      <td>22.0</td>\n",
       "      <td>Suburban</td>\n",
       "    </tr>\n",
       "    <tr>\n",
       "      <th>Bradshawfurt</th>\n",
       "      <td>10</td>\n",
       "      <td>40.064000</td>\n",
       "      <td>7.0</td>\n",
       "      <td>Rural</td>\n",
       "    </tr>\n",
       "  </tbody>\n",
       "</table>\n",
       "</div>"
      ],
      "text/plain": [
       "               Number of Rides  Average Fare  Number of Drivers Type of City\n",
       "Amandaburgh                 18     24.641667               12.0        Urban\n",
       "Barajasview                 22     25.332273               26.0        Urban\n",
       "Barronchester               16     36.422500               11.0     Suburban\n",
       "Bethanyland                 18     32.956111               22.0     Suburban\n",
       "Bradshawfurt                10     40.064000                7.0        Rural"
      ]
     },
     "execution_count": 7,
     "metadata": {},
     "output_type": "execute_result"
    }
   ],
   "source": [
    "#have to group all the data into one data frame\n",
    "#again, this took way longer than it should have for me figure out\n",
    "AllCityInfo = city_info = pd.DataFrame({\n",
    "    \"Number of Rides\": Rides,\n",
    "    \"Average Fare\": AvgFare,\n",
    "    \"Number of Drivers\": CityDriver,\n",
    "    \"Type of City\": Type})\n",
    "AllCityInfo.head()"
   ]
  },
  {
   "cell_type": "code",
   "execution_count": 8,
   "metadata": {},
   "outputs": [
    {
     "data": {
      "text/html": [
       "<div>\n",
       "<style scoped>\n",
       "    .dataframe tbody tr th:only-of-type {\n",
       "        vertical-align: middle;\n",
       "    }\n",
       "\n",
       "    .dataframe tbody tr th {\n",
       "        vertical-align: top;\n",
       "    }\n",
       "\n",
       "    .dataframe thead th {\n",
       "        text-align: right;\n",
       "    }\n",
       "</style>\n",
       "<table border=\"1\" class=\"dataframe\">\n",
       "  <thead>\n",
       "    <tr style=\"text-align: right;\">\n",
       "      <th></th>\n",
       "      <th>Number of Rides</th>\n",
       "      <th>Average Fare</th>\n",
       "      <th>Number of Drivers</th>\n",
       "      <th>Type of City</th>\n",
       "    </tr>\n",
       "  </thead>\n",
       "  <tbody>\n",
       "    <tr>\n",
       "      <th>Bradshawfurt</th>\n",
       "      <td>10</td>\n",
       "      <td>40.064000</td>\n",
       "      <td>7.0</td>\n",
       "      <td>Rural</td>\n",
       "    </tr>\n",
       "    <tr>\n",
       "      <th>Garzaport</th>\n",
       "      <td>3</td>\n",
       "      <td>24.123333</td>\n",
       "      <td>7.0</td>\n",
       "      <td>Rural</td>\n",
       "    </tr>\n",
       "    <tr>\n",
       "      <th>Harringtonfort</th>\n",
       "      <td>6</td>\n",
       "      <td>33.470000</td>\n",
       "      <td>4.0</td>\n",
       "      <td>Rural</td>\n",
       "    </tr>\n",
       "    <tr>\n",
       "      <th>Jessicaport</th>\n",
       "      <td>6</td>\n",
       "      <td>36.013333</td>\n",
       "      <td>1.0</td>\n",
       "      <td>Rural</td>\n",
       "    </tr>\n",
       "    <tr>\n",
       "      <th>Lake Jamie</th>\n",
       "      <td>6</td>\n",
       "      <td>34.358333</td>\n",
       "      <td>4.0</td>\n",
       "      <td>Rural</td>\n",
       "    </tr>\n",
       "  </tbody>\n",
       "</table>\n",
       "</div>"
      ],
      "text/plain": [
       "                Number of Rides  Average Fare  Number of Drivers Type of City\n",
       "Bradshawfurt                 10     40.064000                7.0        Rural\n",
       "Garzaport                     3     24.123333                7.0        Rural\n",
       "Harringtonfort                6     33.470000                4.0        Rural\n",
       "Jessicaport                   6     36.013333                1.0        Rural\n",
       "Lake Jamie                    6     34.358333                4.0        Rural"
      ]
     },
     "execution_count": 8,
     "metadata": {},
     "output_type": "execute_result"
    }
   ],
   "source": [
    "#Now break it all apart by Type of City\n",
    "#Probably could have started here, but I didn't psuedocode as much as I should have\n",
    "RuralInfo = AllCityInfo[AllCityInfo[\"Type of City\"] == \"Rural\"]\n",
    "RuralInfo.head()"
   ]
  },
  {
   "cell_type": "code",
   "execution_count": 9,
   "metadata": {},
   "outputs": [
    {
     "data": {
      "text/html": [
       "<div>\n",
       "<style scoped>\n",
       "    .dataframe tbody tr th:only-of-type {\n",
       "        vertical-align: middle;\n",
       "    }\n",
       "\n",
       "    .dataframe tbody tr th {\n",
       "        vertical-align: top;\n",
       "    }\n",
       "\n",
       "    .dataframe thead th {\n",
       "        text-align: right;\n",
       "    }\n",
       "</style>\n",
       "<table border=\"1\" class=\"dataframe\">\n",
       "  <thead>\n",
       "    <tr style=\"text-align: right;\">\n",
       "      <th></th>\n",
       "      <th>Number of Rides</th>\n",
       "      <th>Average Fare</th>\n",
       "      <th>Number of Drivers</th>\n",
       "      <th>Type of City</th>\n",
       "    </tr>\n",
       "  </thead>\n",
       "  <tbody>\n",
       "    <tr>\n",
       "      <th>Barronchester</th>\n",
       "      <td>16</td>\n",
       "      <td>36.422500</td>\n",
       "      <td>11.0</td>\n",
       "      <td>Suburban</td>\n",
       "    </tr>\n",
       "    <tr>\n",
       "      <th>Bethanyland</th>\n",
       "      <td>18</td>\n",
       "      <td>32.956111</td>\n",
       "      <td>22.0</td>\n",
       "      <td>Suburban</td>\n",
       "    </tr>\n",
       "    <tr>\n",
       "      <th>Brandonfort</th>\n",
       "      <td>19</td>\n",
       "      <td>35.437368</td>\n",
       "      <td>10.0</td>\n",
       "      <td>Suburban</td>\n",
       "    </tr>\n",
       "    <tr>\n",
       "      <th>Colemanland</th>\n",
       "      <td>22</td>\n",
       "      <td>30.894545</td>\n",
       "      <td>23.0</td>\n",
       "      <td>Suburban</td>\n",
       "    </tr>\n",
       "    <tr>\n",
       "      <th>Davidfurt</th>\n",
       "      <td>17</td>\n",
       "      <td>31.995882</td>\n",
       "      <td>23.0</td>\n",
       "      <td>Suburban</td>\n",
       "    </tr>\n",
       "  </tbody>\n",
       "</table>\n",
       "</div>"
      ],
      "text/plain": [
       "               Number of Rides  Average Fare  Number of Drivers Type of City\n",
       "Barronchester               16     36.422500               11.0     Suburban\n",
       "Bethanyland                 18     32.956111               22.0     Suburban\n",
       "Brandonfort                 19     35.437368               10.0     Suburban\n",
       "Colemanland                 22     30.894545               23.0     Suburban\n",
       "Davidfurt                   17     31.995882               23.0     Suburban"
      ]
     },
     "execution_count": 9,
     "metadata": {},
     "output_type": "execute_result"
    }
   ],
   "source": [
    "SuburbanInfo = AllCityInfo[AllCityInfo[\"Type of City\"] == \"Suburban\"]\n",
    "SuburbanInfo.head()"
   ]
  },
  {
   "cell_type": "code",
   "execution_count": 10,
   "metadata": {},
   "outputs": [
    {
     "data": {
      "text/html": [
       "<div>\n",
       "<style scoped>\n",
       "    .dataframe tbody tr th:only-of-type {\n",
       "        vertical-align: middle;\n",
       "    }\n",
       "\n",
       "    .dataframe tbody tr th {\n",
       "        vertical-align: top;\n",
       "    }\n",
       "\n",
       "    .dataframe thead th {\n",
       "        text-align: right;\n",
       "    }\n",
       "</style>\n",
       "<table border=\"1\" class=\"dataframe\">\n",
       "  <thead>\n",
       "    <tr style=\"text-align: right;\">\n",
       "      <th></th>\n",
       "      <th>Number of Rides</th>\n",
       "      <th>Average Fare</th>\n",
       "      <th>Number of Drivers</th>\n",
       "      <th>Type of City</th>\n",
       "    </tr>\n",
       "  </thead>\n",
       "  <tbody>\n",
       "    <tr>\n",
       "      <th>Amandaburgh</th>\n",
       "      <td>18</td>\n",
       "      <td>24.641667</td>\n",
       "      <td>12.0</td>\n",
       "      <td>Urban</td>\n",
       "    </tr>\n",
       "    <tr>\n",
       "      <th>Barajasview</th>\n",
       "      <td>22</td>\n",
       "      <td>25.332273</td>\n",
       "      <td>26.0</td>\n",
       "      <td>Urban</td>\n",
       "    </tr>\n",
       "    <tr>\n",
       "      <th>Carriemouth</th>\n",
       "      <td>27</td>\n",
       "      <td>28.314444</td>\n",
       "      <td>52.0</td>\n",
       "      <td>Urban</td>\n",
       "    </tr>\n",
       "    <tr>\n",
       "      <th>Christopherfurt</th>\n",
       "      <td>27</td>\n",
       "      <td>24.501852</td>\n",
       "      <td>41.0</td>\n",
       "      <td>Urban</td>\n",
       "    </tr>\n",
       "    <tr>\n",
       "      <th>Deanville</th>\n",
       "      <td>19</td>\n",
       "      <td>25.842632</td>\n",
       "      <td>49.0</td>\n",
       "      <td>Urban</td>\n",
       "    </tr>\n",
       "  </tbody>\n",
       "</table>\n",
       "</div>"
      ],
      "text/plain": [
       "                 Number of Rides  Average Fare  Number of Drivers Type of City\n",
       "Amandaburgh                   18     24.641667               12.0        Urban\n",
       "Barajasview                   22     25.332273               26.0        Urban\n",
       "Carriemouth                   27     28.314444               52.0        Urban\n",
       "Christopherfurt               27     24.501852               41.0        Urban\n",
       "Deanville                     19     25.842632               49.0        Urban"
      ]
     },
     "execution_count": 10,
     "metadata": {},
     "output_type": "execute_result"
    }
   ],
   "source": [
    "UrbanInfo = AllCityInfo[AllCityInfo[\"Type of City\"] == \"Urban\"]\n",
    "UrbanInfo.head()"
   ]
  },
  {
   "cell_type": "code",
   "execution_count": 11,
   "metadata": {},
   "outputs": [
    {
     "data": {
      "image/png": "[encoded data removed]",
      "text/plain": [
       "<Figure size 432x288 with 1 Axes>"
      ]
     },
     "metadata": {
      "needs_background": "light"
     },
     "output_type": "display_data"
    }
   ],
   "source": [
    "# Build the scatter plots for each city types\n",
    "# Incorporate the other graph properties\n",
    "plt.title(\"Pyber Ride Sharing Data (2016)\")\n",
    "plt.xlabel(\"Total Number of Rides (Per City)\")\n",
    "plt.ylabel(\"Average Fare ($)\")\n",
    "\n",
    "\n",
    "RuralPlot = plt.scatter(RuralInfo[\"Number of Rides\"], RuralInfo[\"Average Fare\"], s = RuralInfo[\"Number of Drivers\"]*10, color = \"gold\", edgecolor = 'black', label = 'Rural', alpha = 0.5)\n",
    "SuburbanPlot = plt.scatter(SuburbanInfo[\"Number of Rides\"], SuburbanInfo[\"Average Fare\"], s = SuburbanInfo[\"Number of Drivers\"]*10, color = \"red\", edgecolor = 'black', label = 'Suburban', alpha = 0.5)\n",
    "UrbanPlot = plt.scatter(UrbanInfo[\"Number of Rides\"], UrbanInfo[\"Average Fare\"], s = UrbanInfo[\"Number of Drivers\"]*10, color = \"blue\", edgecolor = 'black', label = 'Urban', alpha = 0.5)\n",
    "# Incorporate a text label regarding circle size - that the *10 - Pele's #\n",
    "\n",
    "#This was actually the first time I could decipher something on Stack Overflow\n",
    "#I'm not 100% sure on what all of means, like the right = 1, I get the right, but am not sure on the one\n",
    "#The xample had 0.25, but that made my graph supertiny, so I kept trying numbers until it looked good\n",
    "textstr = \"Note:\\nCircle size correlates with driver count per city.\" \n",
    "plt.xlim(0, 41)\n",
    "plt.ylim(18, 44)\n",
    "plt.text(42, 33, textstr, fontsize=10)\n",
    "plt.subplots_adjust(right=1)\n",
    "\n",
    "# Create a legend\n",
    "#took me forever to figure out how to pull this right and it's still a little off - the unemployment on day 2 helped\n",
    "legend = plt.legend(handles=[RuralPlot, SuburbanPlot, UrbanPlot], title = \"City Types\",  loc=\"best\")\n",
    "legend.legendHandles[0]._sizes = [44]\n",
    "legend.legendHandles[1]._sizes = [44]\n",
    "legend.legendHandles[2]._sizes = [44]\n",
    "\n",
    "#This is stupid, but it took me a while to find this simple grid function\n",
    "plt.grid(True)\n",
    "\n",
    "plt.show()\n"
   ]
  },
  {
   "cell_type": "code",
   "execution_count": 12,
   "metadata": {},
   "outputs": [],
   "source": [
    "# Save Figure\n",
    "#plt.savefig(\"../data/ridesharebubble.png\")\n"
   ]
  },
  {
   "cell_type": "code",
   "execution_count": 13,
   "metadata": {},
   "outputs": [],
   "source": [
    "# Show plot\n",
    "plt.show()"
   ]
  },
  {
   "cell_type": "markdown",
   "metadata": {},
   "source": [
    "## Total Fares by City Type"
   ]
  },
  {
   "cell_type": "code",
   "execution_count": 14,
   "metadata": {},
   "outputs": [
    {
     "data": {
      "text/html": [
       "<div>\n",
       "<style scoped>\n",
       "    .dataframe tbody tr th:only-of-type {\n",
       "        vertical-align: middle;\n",
       "    }\n",
       "\n",
       "    .dataframe tbody tr th {\n",
       "        vertical-align: top;\n",
       "    }\n",
       "\n",
       "    .dataframe thead th {\n",
       "        text-align: right;\n",
       "    }\n",
       "</style>\n",
       "<table border=\"1\" class=\"dataframe\">\n",
       "  <thead>\n",
       "    <tr style=\"text-align: right;\">\n",
       "      <th></th>\n",
       "      <th>city</th>\n",
       "      <th>driver_count</th>\n",
       "      <th>date</th>\n",
       "      <th>fare</th>\n",
       "      <th>ride_id</th>\n",
       "    </tr>\n",
       "    <tr>\n",
       "      <th>type</th>\n",
       "      <th></th>\n",
       "      <th></th>\n",
       "      <th></th>\n",
       "      <th></th>\n",
       "      <th></th>\n",
       "    </tr>\n",
       "  </thead>\n",
       "  <tbody>\n",
       "    <tr>\n",
       "      <th>Rural</th>\n",
       "      <td>125</td>\n",
       "      <td>125</td>\n",
       "      <td>125</td>\n",
       "      <td>125</td>\n",
       "      <td>125</td>\n",
       "    </tr>\n",
       "    <tr>\n",
       "      <th>Suburban</th>\n",
       "      <td>625</td>\n",
       "      <td>625</td>\n",
       "      <td>625</td>\n",
       "      <td>625</td>\n",
       "      <td>625</td>\n",
       "    </tr>\n",
       "    <tr>\n",
       "      <th>Urban</th>\n",
       "      <td>1625</td>\n",
       "      <td>1625</td>\n",
       "      <td>1625</td>\n",
       "      <td>1625</td>\n",
       "      <td>1625</td>\n",
       "    </tr>\n",
       "  </tbody>\n",
       "</table>\n",
       "</div>"
      ],
      "text/plain": [
       "          city  driver_count  date  fare  ride_id\n",
       "type                                             \n",
       "Rural      125           125   125   125      125\n",
       "Suburban   625           625   625   625      625\n",
       "Urban     1625          1625  1625  1625     1625"
      ]
     },
     "execution_count": 14,
     "metadata": {},
     "output_type": "execute_result"
    }
   ],
   "source": [
    "# Calculate Type Percents\n",
    "CityType2 = merge_table.groupby(\"type\")\n",
    "CityType2.count()\n",
    "\n",
    "\n",
    "\n"
   ]
  },
  {
   "cell_type": "code",
   "execution_count": 15,
   "metadata": {},
   "outputs": [
    {
     "data": {
      "text/plain": [
       "63538.64"
      ]
     },
     "execution_count": 15,
     "metadata": {},
     "output_type": "execute_result"
    }
   ],
   "source": [
    "CityRides = merge_table[\"fare\"].sum()\n",
    "CityRides"
   ]
  },
  {
   "cell_type": "code",
   "execution_count": 16,
   "metadata": {},
   "outputs": [
    {
     "data": {
      "text/plain": [
       "type\n",
       "Rural        4327.93\n",
       "Suburban    19356.33\n",
       "Urban       39854.38\n",
       "Name: fare, dtype: float64"
      ]
     },
     "execution_count": 16,
     "metadata": {},
     "output_type": "execute_result"
    }
   ],
   "source": [
    "TotalFares = CityType2[\"fare\"].sum()\n",
    "TotalFares"
   ]
  },
  {
   "cell_type": "code",
   "execution_count": 17,
   "metadata": {},
   "outputs": [
    {
     "data": {
      "text/plain": [
       "63538.64"
      ]
     },
     "execution_count": 17,
     "metadata": {},
     "output_type": "execute_result"
    }
   ],
   "source": [
    "CityRides = merge_table[\"fare\"].sum()\n",
    "CityRides"
   ]
  },
  {
   "cell_type": "code",
   "execution_count": 18,
   "metadata": {},
   "outputs": [
    {
     "data": {
      "text/plain": [
       "6.811492974983412"
      ]
     },
     "execution_count": 18,
     "metadata": {},
     "output_type": "execute_result"
    }
   ],
   "source": [
    "#Percent of Fares by Type\n",
    "RuralFares = (TotalFares[\"Rural\"] / CityRides)*100\n",
    "RuralFares"
   ]
  },
  {
   "cell_type": "code",
   "execution_count": 19,
   "metadata": {},
   "outputs": [
    {
     "data": {
      "text/plain": [
       "30.46387206273221"
      ]
     },
     "execution_count": 19,
     "metadata": {},
     "output_type": "execute_result"
    }
   ],
   "source": [
    "SuburbanFares = (TotalFares[\"Suburban\"] / CityRides)*100\n",
    "SuburbanFares"
   ]
  },
  {
   "cell_type": "code",
   "execution_count": 20,
   "metadata": {},
   "outputs": [
    {
     "data": {
      "text/plain": [
       "62.72463496228436"
      ]
     },
     "execution_count": 20,
     "metadata": {},
     "output_type": "execute_result"
    }
   ],
   "source": [
    "UrbanFares = (TotalFares[\"Urban\"] / CityRides)*100\n",
    "UrbanFares"
   ]
  },
  {
   "cell_type": "code",
   "execution_count": 21,
   "metadata": {},
   "outputs": [
    {
     "data": {
      "text/plain": [
       "0     6.811493\n",
       "1    30.463872\n",
       "2    62.724635\n",
       "Name: Percentage of Fares, dtype: float64"
      ]
     },
     "execution_count": 21,
     "metadata": {},
     "output_type": "execute_result"
    }
   ],
   "source": [
    "summary_tablefares = pd.DataFrame({\"Percentage of Fares\": [RuralFares, SuburbanFares, UrbanFares]})\n",
    "summary_tablefares = summary_tablefares[summary_tablefares.columns[0]]\n",
    "summary_tablefares"
   ]
  },
  {
   "cell_type": "code",
   "execution_count": 22,
   "metadata": {
    "scrolled": true
   },
   "outputs": [
    {
     "data": {
      "text/plain": [
       "(-1.116703108059631,\n",
       " 1.197266450606346,\n",
       " -1.1123788383456472,\n",
       " 1.1610996829807194)"
      ]
     },
     "execution_count": 22,
     "metadata": {},
     "output_type": "execute_result"
    },
    {
     "data": {
      "image/png": "[encoded data removed]",
      "text/plain": [
       "<Figure size 432x288 with 1 Axes>"
      ]
     },
     "metadata": {},
     "output_type": "display_data"
    }
   ],
   "source": [
    "# Build Pie Chart\n",
    "# Tell matplotlib to create a pie chart based upon the above data\n",
    "labels = [\"Rural\", \"Suburban\", \"Urban\"]\n",
    "colors = [\"yellow\",\"lightskyblue\",\"lightcoral\"]\n",
    "explode = (0,0,0.1,)\n",
    "plt.pie(summary_tablefares, explode=explode, labels=labels, colors=colors, autopct=\"%1.1f%%\", shadow=True,  startangle=140)\n",
    "# Create axes which are equal so we have a perfect circle\n",
    "plt.title(\"% of Total Fares by City Type\")\n",
    "\n",
    "plt.axis(\"equal\")"
   ]
  },
  {
   "cell_type": "code",
   "execution_count": 23,
   "metadata": {},
   "outputs": [],
   "source": [
    "# Save Figure\n",
    "#plt.savefig(\"../data/ridesharefare.png\")"
   ]
  },
  {
   "cell_type": "code",
   "execution_count": 24,
   "metadata": {},
   "outputs": [],
   "source": [
    "# Show Figure\n",
    "plt.show()"
   ]
  },
  {
   "cell_type": "markdown",
   "metadata": {},
   "source": [
    "## Total Rides by City Type"
   ]
  },
  {
   "cell_type": "code",
   "execution_count": 25,
   "metadata": {},
   "outputs": [
    {
     "data": {
      "text/plain": [
       "type      city               \n",
       "Rural     Michaelberg            12\n",
       "          Lake Latoyabury        11\n",
       "          Bradshawfurt           10\n",
       "          North Holly             9\n",
       "          West Heather            9\n",
       "          North Jaime             8\n",
       "          South Marychester       8\n",
       "          South Jennifer          7\n",
       "          Harringtonfort          6\n",
       "          Jessicaport             6\n",
       "          Lake Jamie              6\n",
       "          New Ryantown            6\n",
       "          Taylorhaven             6\n",
       "          Penaborough             5\n",
       "          Randallchester          5\n",
       "          Newtonview              4\n",
       "          South Saramouth         4\n",
       "          Garzaport               3\n",
       "Suburban  East Marymouth         27\n",
       "          Josephside             27\n",
       "          Lake Robertside        25\n",
       "          South Brenda           24\n",
       "          Colemanland            22\n",
       "          New Raymond            22\n",
       "          South Teresa           22\n",
       "          West Hannah            21\n",
       "          West Kimmouth          20\n",
       "          Brandonfort            19\n",
       "          Nicolechester          19\n",
       "          Port Shane             19\n",
       "                                 ..\n",
       "Urban     Roberthaven            24\n",
       "          Simpsonburgh           24\n",
       "          Rodneyfort             23\n",
       "          West Gabriel           23\n",
       "          Williamsstad           23\n",
       "          Barajasview            22\n",
       "          New Paulville          22\n",
       "          North Barbara          22\n",
       "          Port David             22\n",
       "          Port Johnbury          22\n",
       "          Rogerston              22\n",
       "          Valentineton           22\n",
       "          Johnton                21\n",
       "          Leahton                21\n",
       "          Pattyland              21\n",
       "          Robertport             20\n",
       "          Williamsview           20\n",
       "          Deanville              19\n",
       "          New Paulton            19\n",
       "          Port Angela            19\n",
       "          Reynoldsfurt           19\n",
       "          South Jack             19\n",
       "          South Latoya           19\n",
       "          Amandaburgh            18\n",
       "          New Jacobville         18\n",
       "          West Ericstad          18\n",
       "          Karenberg              17\n",
       "          West Patrickchester    16\n",
       "          North Markport         14\n",
       "          Erikaland              12\n",
       "Name: city, Length: 120, dtype: int64"
      ]
     },
     "execution_count": 25,
     "metadata": {},
     "output_type": "execute_result"
    }
   ],
   "source": [
    "# Calculate Ride Percents\n",
    "RidesbyCity = merge_table.groupby(\"type\")[\"city\"].value_counts()\n",
    "RidesbyCity"
   ]
  },
  {
   "cell_type": "code",
   "execution_count": 26,
   "metadata": {},
   "outputs": [
    {
     "data": {
      "text/plain": [
       "2375"
      ]
     },
     "execution_count": 26,
     "metadata": {},
     "output_type": "execute_result"
    }
   ],
   "source": [
    "TotalRides = RidesbyCity.sum()\n",
    "TotalRides"
   ]
  },
  {
   "cell_type": "code",
   "execution_count": 27,
   "metadata": {},
   "outputs": [
    {
     "data": {
      "text/plain": [
       "city\n",
       "Michaelberg        0.505263\n",
       "Lake Latoyabury    0.463158\n",
       "Bradshawfurt       0.421053\n",
       "North Holly        0.378947\n",
       "West Heather       0.378947\n",
       "Name: city, dtype: float64"
      ]
     },
     "execution_count": 27,
     "metadata": {},
     "output_type": "execute_result"
    }
   ],
   "source": [
    "RuralRides = (RidesbyCity[\"Rural\"] / TotalRides)*100\n",
    "RuralRides.head()"
   ]
  },
  {
   "cell_type": "code",
   "execution_count": 28,
   "metadata": {},
   "outputs": [
    {
     "data": {
      "text/plain": [
       "city\n",
       "East Marymouth     1.136842\n",
       "Josephside         1.136842\n",
       "Lake Robertside    1.052632\n",
       "South Brenda       1.010526\n",
       "Colemanland        0.926316\n",
       "Name: city, dtype: float64"
      ]
     },
     "execution_count": 28,
     "metadata": {},
     "output_type": "execute_result"
    }
   ],
   "source": [
    "SuburbanRides = (RidesbyCity[\"Suburban\"] / TotalRides)*100\n",
    "SuburbanRides.head()"
   ]
  },
  {
   "cell_type": "code",
   "execution_count": 29,
   "metadata": {},
   "outputs": [
    {
     "data": {
      "text/plain": [
       "city\n",
       "West Angela        1.642105\n",
       "South Karenland    1.600000\n",
       "North Jason        1.473684\n",
       "Liumouth           1.389474\n",
       "Port Frank         1.389474\n",
       "Name: city, dtype: float64"
      ]
     },
     "execution_count": 29,
     "metadata": {},
     "output_type": "execute_result"
    }
   ],
   "source": [
    "UrbanRides = (RidesbyCity[\"Urban\"] / TotalRides)*100\n",
    "UrbanRides.head()"
   ]
  },
  {
   "cell_type": "code",
   "execution_count": 30,
   "metadata": {},
   "outputs": [
    {
     "data": {
      "text/plain": [
       "5.263157894736842"
      ]
     },
     "execution_count": 30,
     "metadata": {},
     "output_type": "execute_result"
    }
   ],
   "source": [
    "TotRuralRides = RuralRides.sum()\n",
    "TotRuralRides"
   ]
  },
  {
   "cell_type": "code",
   "execution_count": 31,
   "metadata": {},
   "outputs": [
    {
     "data": {
      "text/plain": [
       "26.315789473684212"
      ]
     },
     "execution_count": 31,
     "metadata": {},
     "output_type": "execute_result"
    }
   ],
   "source": [
    "TotSuburbanRides = SuburbanRides.sum()\n",
    "TotSuburbanRides"
   ]
  },
  {
   "cell_type": "code",
   "execution_count": 32,
   "metadata": {},
   "outputs": [
    {
     "data": {
      "text/plain": [
       "68.42105263157895"
      ]
     },
     "execution_count": 32,
     "metadata": {},
     "output_type": "execute_result"
    }
   ],
   "source": [
    "TotUrbanRides = UrbanRides.sum()\n",
    "TotUrbanRides"
   ]
  },
  {
   "cell_type": "code",
   "execution_count": 33,
   "metadata": {},
   "outputs": [
    {
     "data": {
      "text/plain": [
       "0     5.263158\n",
       "1    26.315789\n",
       "2    68.421053\n",
       "Name: Percentage of Rides by City Type, dtype: float64"
      ]
     },
     "execution_count": 33,
     "metadata": {},
     "output_type": "execute_result"
    }
   ],
   "source": [
    "summary_tablerides = pd.DataFrame({\"Percentage of Rides by City Type\": [TotRuralRides, TotSuburbanRides, TotUrbanRides]})\n",
    "summary_tablerides = summary_tablerides[summary_tablerides.columns[0]]\n",
    "summary_tablerides"
   ]
  },
  {
   "cell_type": "code",
   "execution_count": 34,
   "metadata": {},
   "outputs": [
    {
     "data": {
      "text/plain": [
       "(-1.1110420108142822,\n",
       " 1.215408844786391,\n",
       " -1.085782351148256,\n",
       " 1.1462471637001541)"
      ]
     },
     "execution_count": 34,
     "metadata": {},
     "output_type": "execute_result"
    },
    {
     "data": {
      "image/png": "[encoded data removed]",
      "text/plain": [
       "<Figure size 432x288 with 1 Axes>"
      ]
     },
     "metadata": {},
     "output_type": "display_data"
    }
   ],
   "source": [
    "# Build Pie Chart\n",
    "# Tell matplotlib to create a pie chart based upon the above data\n",
    "labels = [\"Rural\", \"Suburban\", \"Urban\"]\n",
    "colors = [\"yellow\",\"lightskyblue\",\"lightcoral\"]\n",
    "explode = (0,0,0.1)\n",
    "plt.pie(summary_tablerides, explode=explode, labels=labels, colors=colors,\n",
    "        autopct=\"%1.1f%%\", shadow=True, startangle=140)\n",
    "# Create axes which are equal so we have a perfect circle\n",
    "plt.title(\"% of Total Rides by City Type\")\n",
    "\n",
    "plt.axis(\"equal\")\n"
   ]
  },
  {
   "cell_type": "code",
   "execution_count": 35,
   "metadata": {},
   "outputs": [],
   "source": [
    "# Save Figure\n",
    "#plt.savefig(\"../data/ridesharetotrides.png\")"
   ]
  },
  {
   "cell_type": "code",
   "execution_count": 36,
   "metadata": {},
   "outputs": [],
   "source": [
    "# Show Figure\n",
    "plt.show()"
   ]
  },
  {
   "cell_type": "markdown",
   "metadata": {},
   "source": [
    "## Total Drivers by City Type"
   ]
  },
  {
   "cell_type": "code",
   "execution_count": 37,
   "metadata": {},
   "outputs": [
    {
     "data": {
      "text/plain": [
       "2973"
      ]
     },
     "execution_count": 37,
     "metadata": {},
     "output_type": "execute_result"
    }
   ],
   "source": [
    "# Calculate Driver Percents\n",
    "TotalDrivers = city_data[\"driver_count\"].sum()\n",
    "TotalDrivers"
   ]
  },
  {
   "cell_type": "code",
   "execution_count": 38,
   "metadata": {},
   "outputs": [
    {
     "data": {
      "text/plain": [
       "78"
      ]
     },
     "execution_count": 38,
     "metadata": {},
     "output_type": "execute_result"
    }
   ],
   "source": [
    "RuralDrivers = city_data.loc[city_data[\"type\"]==\"Rural\"][\"driver_count\"].sum()\n",
    "RuralDrivers"
   ]
  },
  {
   "cell_type": "code",
   "execution_count": 39,
   "metadata": {},
   "outputs": [
    {
     "data": {
      "text/plain": [
       "490"
      ]
     },
     "execution_count": 39,
     "metadata": {},
     "output_type": "execute_result"
    }
   ],
   "source": [
    "SuburbanDrivers = city_data.loc[city_data['type']=='Suburban'][\"driver_count\"].sum()\n",
    "SuburbanDrivers"
   ]
  },
  {
   "cell_type": "code",
   "execution_count": 40,
   "metadata": {},
   "outputs": [
    {
     "data": {
      "text/plain": [
       "2405"
      ]
     },
     "execution_count": 40,
     "metadata": {},
     "output_type": "execute_result"
    }
   ],
   "source": [
    "UrbanDrivers = city_data.loc[city_data['type']=='Urban'][\"driver_count\"].sum()\n",
    "UrbanDrivers"
   ]
  },
  {
   "cell_type": "code",
   "execution_count": 41,
   "metadata": {},
   "outputs": [
    {
     "data": {
      "text/plain": [
       "2.6236125126135215"
      ]
     },
     "execution_count": 41,
     "metadata": {},
     "output_type": "execute_result"
    }
   ],
   "source": [
    "RuralDriversPer = (RuralDrivers/TotalDrivers)*100\n",
    "RuralDriversPer"
   ]
  },
  {
   "cell_type": "code",
   "execution_count": 42,
   "metadata": {},
   "outputs": [
    {
     "data": {
      "text/plain": [
       "16.481668348469558"
      ]
     },
     "execution_count": 42,
     "metadata": {},
     "output_type": "execute_result"
    }
   ],
   "source": [
    "SuburbanDriversPer =(SuburbanDrivers/TotalDrivers)*100\n",
    "SuburbanDriversPer"
   ]
  },
  {
   "cell_type": "code",
   "execution_count": 43,
   "metadata": {},
   "outputs": [
    {
     "data": {
      "text/plain": [
       "80.89471913891691"
      ]
     },
     "execution_count": 43,
     "metadata": {},
     "output_type": "execute_result"
    }
   ],
   "source": [
    "UrbanDriversPer = (UrbanDrivers/TotalDrivers)*100\n",
    "UrbanDriversPer"
   ]
  },
  {
   "cell_type": "code",
   "execution_count": 44,
   "metadata": {},
   "outputs": [
    {
     "data": {
      "text/plain": [
       "0     2.623613\n",
       "1    16.481668\n",
       "2    80.894719\n",
       "Name: Percent of Drivers by City Type, dtype: float64"
      ]
     },
     "execution_count": 44,
     "metadata": {},
     "output_type": "execute_result"
    }
   ],
   "source": [
    "# Build Pie Charts\n",
    "summary_tabledrivers = pd.DataFrame({\"Percent of Drivers by City Type\": [RuralDriversPer, SuburbanDriversPer, UrbanDriversPer]})\n",
    "summary_tabledrivers = summary_tabledrivers[summary_tabledrivers.columns[0]]\n",
    "summary_tabledrivers"
   ]
  },
  {
   "cell_type": "code",
   "execution_count": 45,
   "metadata": {},
   "outputs": [
    {
     "data": {
      "text/plain": [
       "(-1.1079533131331436,\n",
       " 1.210488336220195,\n",
       " -1.1158855877672291,\n",
       " 1.0960571177251688)"
      ]
     },
     "execution_count": 45,
     "metadata": {},
     "output_type": "execute_result"
    },
    {
     "data": {
      "image/png": "[encoded data removed]",
      "text/plain": [
       "<Figure size 432x288 with 1 Axes>"
      ]
     },
     "metadata": {},
     "output_type": "display_data"
    }
   ],
   "source": [
    "# Build Pie Chart\n",
    "# SAME AS ABOVE, SO PAY ATTENTION TO ERRORS\n",
    "# Tell matplotlib to create a pie chart based upon the above data\n",
    "labels = [\"Rural\", \"Suburban\", \"Urban\"]\n",
    "colors = [\"yellow\",\"lightskyblue\",\"lightcoral\"]\n",
    "explode = (0,0,0.1)\n",
    "plt.pie(summary_tabledrivers, explode=explode, labels=labels, colors=colors,\n",
    "        autopct=\"%1.1f%%\", shadow=True, startangle=140)\n",
    "# Create axes which are equal so we have a perfect circle\n",
    "\n",
    "plt.title(\"% of Total Drivers by City Type\")\n",
    "plt.axis(\"equal\")"
   ]
  },
  {
   "cell_type": "code",
   "execution_count": 46,
   "metadata": {},
   "outputs": [],
   "source": [
    "# Save Figure\n",
    "#plt.savefig(\"../data/ridesharetotdrive.png\")"
   ]
  },
  {
   "cell_type": "code",
   "execution_count": 47,
   "metadata": {
    "scrolled": true
   },
   "outputs": [],
   "source": [
    "# Show Figure\n",
    "plt.show()"
   ]
  },
  {
   "cell_type": "code",
   "execution_count": null,
   "metadata": {},
   "outputs": [],
   "source": []
  }
 ],
 "metadata": {
  "anaconda-cloud": {},
  "kernelspec": {
   "display_name": "Python 3",
   "language": "python",
   "name": "python3"
  },
  "language_info": {
   "codemirror_mode": {
    "name": "ipython",
    "version": 3
   },
   "file_extension": ".py",
   "mimetype": "text/x-python",
   "name": "python",
   "nbconvert_exporter": "python",
   "pygments_lexer": "ipython3",
   "version": "3.7.3"
  }
 },
 "nbformat": 4,
 "nbformat_minor": 2
}
