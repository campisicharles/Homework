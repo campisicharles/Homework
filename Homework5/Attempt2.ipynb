{
 "cells": [
  {
   "cell_type": "code",
   "execution_count": 2,
   "metadata": {},
   "outputs": [
    {
     "data": {
      "text/html": [
       "<div>\n",
       "<style scoped>\n",
       "    .dataframe tbody tr th:only-of-type {\n",
       "        vertical-align: middle;\n",
       "    }\n",
       "\n",
       "    .dataframe tbody tr th {\n",
       "        vertical-align: top;\n",
       "    }\n",
       "\n",
       "    .dataframe thead th {\n",
       "        text-align: right;\n",
       "    }\n",
       "</style>\n",
       "<table border=\"1\" class=\"dataframe\">\n",
       "  <thead>\n",
       "    <tr style=\"text-align: right;\">\n",
       "      <th></th>\n",
       "      <th>city</th>\n",
       "      <th>driver_count</th>\n",
       "      <th>type</th>\n",
       "      <th>date</th>\n",
       "      <th>fare</th>\n",
       "      <th>ride_id</th>\n",
       "    </tr>\n",
       "  </thead>\n",
       "  <tbody>\n",
       "    <tr>\n",
       "      <th>0</th>\n",
       "      <td>Richardfort</td>\n",
       "      <td>38</td>\n",
       "      <td>Urban</td>\n",
       "      <td>2018-02-24 08:40:38</td>\n",
       "      <td>13.93</td>\n",
       "      <td>5628545007794</td>\n",
       "    </tr>\n",
       "    <tr>\n",
       "      <th>1</th>\n",
       "      <td>Richardfort</td>\n",
       "      <td>38</td>\n",
       "      <td>Urban</td>\n",
       "      <td>2018-02-13 12:46:07</td>\n",
       "      <td>14.00</td>\n",
       "      <td>910050116494</td>\n",
       "    </tr>\n",
       "    <tr>\n",
       "      <th>2</th>\n",
       "      <td>Richardfort</td>\n",
       "      <td>38</td>\n",
       "      <td>Urban</td>\n",
       "      <td>2018-02-16 13:52:19</td>\n",
       "      <td>17.92</td>\n",
       "      <td>820639054416</td>\n",
       "    </tr>\n",
       "    <tr>\n",
       "      <th>3</th>\n",
       "      <td>Richardfort</td>\n",
       "      <td>38</td>\n",
       "      <td>Urban</td>\n",
       "      <td>2018-02-01 20:18:28</td>\n",
       "      <td>10.26</td>\n",
       "      <td>9554935945413</td>\n",
       "    </tr>\n",
       "    <tr>\n",
       "      <th>4</th>\n",
       "      <td>Richardfort</td>\n",
       "      <td>38</td>\n",
       "      <td>Urban</td>\n",
       "      <td>2018-04-17 02:26:37</td>\n",
       "      <td>23.00</td>\n",
       "      <td>720020655850</td>\n",
       "    </tr>\n",
       "  </tbody>\n",
       "</table>\n",
       "</div>"
      ],
      "text/plain": [
       "          city  driver_count   type                 date   fare        ride_id\n",
       "0  Richardfort            38  Urban  2018-02-24 08:40:38  13.93  5628545007794\n",
       "1  Richardfort            38  Urban  2018-02-13 12:46:07  14.00   910050116494\n",
       "2  Richardfort            38  Urban  2018-02-16 13:52:19  17.92   820639054416\n",
       "3  Richardfort            38  Urban  2018-02-01 20:18:28  10.26  9554935945413\n",
       "4  Richardfort            38  Urban  2018-04-17 02:26:37  23.00   720020655850"
      ]
     },
     "execution_count": 2,
     "metadata": {},
     "output_type": "execute_result"
    }
   ],
   "source": [
    "%matplotlib inline\n",
    "# Dependencies and Setup\n",
    "import matplotlib.pyplot as plt\n",
    "import pandas as pd\n",
    "import numpy as np\n",
    "\n",
    "# File to Load (Remember to change these)\n",
    "city_data_to_load = \"data/city_data.csv\"\n",
    "ride_data_to_load = \"data/ride_data.csv\"\n",
    "\n",
    "# Read the City and Ride Data\n",
    "city_data = pd.read_csv(city_data_to_load)\n",
    "ride_data = pd.read_csv(ride_data_to_load)\n",
    "\n",
    "# Combine the data into a single dataset\n",
    "# Merge two dataframes using an outer join\n",
    "merge_table = pd.merge(city_data, ride_data, on=\"city\", how=\"outer\")\n",
    "\n",
    "# Display the data table for preview\n",
    "merge_table.head()"
   ]
  },
  {
   "cell_type": "markdown",
   "metadata": {},
   "source": [
    "## Bubble Plot of Ride Sharing Data"
   ]
  },
  {
   "cell_type": "code",
   "execution_count": 2,
   "metadata": {},
   "outputs": [],
   "source": [
    "# Obtain the x and y coordinates for each of the three city types"
   ]
  },
  {
   "cell_type": "code",
   "execution_count": 40,
   "metadata": {},
   "outputs": [
    {
     "data": {
      "text/plain": [
       "city\n",
       "Amandaburgh      18\n",
       "Barajasview      22\n",
       "Barronchester    16\n",
       "Bethanyland      18\n",
       "Bradshawfurt     10\n",
       "Name: fare, dtype: int64"
      ]
     },
     "execution_count": 40,
     "metadata": {},
     "output_type": "execute_result"
    }
   ],
   "source": [
    "#Total Number of Rides Per City (?)\n",
    "x_axis = merge_table.groupby(\"city\")[\"fare\"].nunique()\n",
    "x_axis.head()"
   ]
  },
  {
   "cell_type": "code",
   "execution_count": 38,
   "metadata": {},
   "outputs": [
    {
     "data": {
      "text/html": [
       "<div>\n",
       "<style scoped>\n",
       "    .dataframe tbody tr th:only-of-type {\n",
       "        vertical-align: middle;\n",
       "    }\n",
       "\n",
       "    .dataframe tbody tr th {\n",
       "        vertical-align: top;\n",
       "    }\n",
       "\n",
       "    .dataframe thead th {\n",
       "        text-align: right;\n",
       "    }\n",
       "</style>\n",
       "<table border=\"1\" class=\"dataframe\">\n",
       "  <thead>\n",
       "    <tr style=\"text-align: right;\">\n",
       "      <th></th>\n",
       "      <th>city</th>\n",
       "      <th>driver_count</th>\n",
       "      <th>type</th>\n",
       "      <th>date</th>\n",
       "      <th>fare</th>\n",
       "      <th>ride_id</th>\n",
       "    </tr>\n",
       "  </thead>\n",
       "  <tbody>\n",
       "    <tr>\n",
       "      <th>0</th>\n",
       "      <td>Richardfort</td>\n",
       "      <td>38</td>\n",
       "      <td>Urban</td>\n",
       "      <td>2018-02-24 08:40:38</td>\n",
       "      <td>13.93</td>\n",
       "      <td>5628545007794</td>\n",
       "    </tr>\n",
       "    <tr>\n",
       "      <th>1</th>\n",
       "      <td>Richardfort</td>\n",
       "      <td>38</td>\n",
       "      <td>Urban</td>\n",
       "      <td>2018-02-13 12:46:07</td>\n",
       "      <td>14.00</td>\n",
       "      <td>910050116494</td>\n",
       "    </tr>\n",
       "    <tr>\n",
       "      <th>2</th>\n",
       "      <td>Richardfort</td>\n",
       "      <td>38</td>\n",
       "      <td>Urban</td>\n",
       "      <td>2018-02-16 13:52:19</td>\n",
       "      <td>17.92</td>\n",
       "      <td>820639054416</td>\n",
       "    </tr>\n",
       "    <tr>\n",
       "      <th>3</th>\n",
       "      <td>Richardfort</td>\n",
       "      <td>38</td>\n",
       "      <td>Urban</td>\n",
       "      <td>2018-02-01 20:18:28</td>\n",
       "      <td>10.26</td>\n",
       "      <td>9554935945413</td>\n",
       "    </tr>\n",
       "    <tr>\n",
       "      <th>4</th>\n",
       "      <td>Richardfort</td>\n",
       "      <td>38</td>\n",
       "      <td>Urban</td>\n",
       "      <td>2018-04-17 02:26:37</td>\n",
       "      <td>23.00</td>\n",
       "      <td>720020655850</td>\n",
       "    </tr>\n",
       "    <tr>\n",
       "      <th>28</th>\n",
       "      <td>Williamsstad</td>\n",
       "      <td>59</td>\n",
       "      <td>Urban</td>\n",
       "      <td>2018-01-23 17:51:24</td>\n",
       "      <td>19.62</td>\n",
       "      <td>125986195523</td>\n",
       "    </tr>\n",
       "    <tr>\n",
       "      <th>29</th>\n",
       "      <td>Williamsstad</td>\n",
       "      <td>59</td>\n",
       "      <td>Urban</td>\n",
       "      <td>2018-03-29 21:43:04</td>\n",
       "      <td>35.58</td>\n",
       "      <td>4747780858464</td>\n",
       "    </tr>\n",
       "    <tr>\n",
       "      <th>30</th>\n",
       "      <td>Williamsstad</td>\n",
       "      <td>59</td>\n",
       "      <td>Urban</td>\n",
       "      <td>2018-02-13 20:07:49</td>\n",
       "      <td>33.72</td>\n",
       "      <td>3796713212942</td>\n",
       "    </tr>\n",
       "    <tr>\n",
       "      <th>31</th>\n",
       "      <td>Williamsstad</td>\n",
       "      <td>59</td>\n",
       "      <td>Urban</td>\n",
       "      <td>2018-05-01 01:26:21</td>\n",
       "      <td>26.81</td>\n",
       "      <td>4542954169892</td>\n",
       "    </tr>\n",
       "    <tr>\n",
       "      <th>32</th>\n",
       "      <td>Williamsstad</td>\n",
       "      <td>59</td>\n",
       "      <td>Urban</td>\n",
       "      <td>2018-02-23 17:42:40</td>\n",
       "      <td>4.68</td>\n",
       "      <td>9109973457376</td>\n",
       "    </tr>\n",
       "    <tr>\n",
       "      <th>51</th>\n",
       "      <td>Port Angela</td>\n",
       "      <td>67</td>\n",
       "      <td>Urban</td>\n",
       "      <td>2018-04-17 06:23:18</td>\n",
       "      <td>16.34</td>\n",
       "      <td>7120534266772</td>\n",
       "    </tr>\n",
       "    <tr>\n",
       "      <th>52</th>\n",
       "      <td>Port Angela</td>\n",
       "      <td>67</td>\n",
       "      <td>Urban</td>\n",
       "      <td>2018-03-31 15:22:26</td>\n",
       "      <td>30.77</td>\n",
       "      <td>662264490197</td>\n",
       "    </tr>\n",
       "    <tr>\n",
       "      <th>53</th>\n",
       "      <td>Port Angela</td>\n",
       "      <td>67</td>\n",
       "      <td>Urban</td>\n",
       "      <td>2018-04-09 14:34:27</td>\n",
       "      <td>11.90</td>\n",
       "      <td>7009806605900</td>\n",
       "    </tr>\n",
       "    <tr>\n",
       "      <th>54</th>\n",
       "      <td>Port Angela</td>\n",
       "      <td>67</td>\n",
       "      <td>Urban</td>\n",
       "      <td>2018-02-08 16:30:53</td>\n",
       "      <td>30.38</td>\n",
       "      <td>5165542108944</td>\n",
       "    </tr>\n",
       "    <tr>\n",
       "      <th>55</th>\n",
       "      <td>Port Angela</td>\n",
       "      <td>67</td>\n",
       "      <td>Urban</td>\n",
       "      <td>2018-03-04 03:26:39</td>\n",
       "      <td>40.35</td>\n",
       "      <td>4930810733132</td>\n",
       "    </tr>\n",
       "    <tr>\n",
       "      <th>70</th>\n",
       "      <td>Rodneyfort</td>\n",
       "      <td>34</td>\n",
       "      <td>Urban</td>\n",
       "      <td>2018-02-10 23:22:03</td>\n",
       "      <td>23.44</td>\n",
       "      <td>5149245426178</td>\n",
       "    </tr>\n",
       "    <tr>\n",
       "      <th>71</th>\n",
       "      <td>Rodneyfort</td>\n",
       "      <td>34</td>\n",
       "      <td>Urban</td>\n",
       "      <td>2018-03-02 18:03:20</td>\n",
       "      <td>44.26</td>\n",
       "      <td>2494064867705</td>\n",
       "    </tr>\n",
       "    <tr>\n",
       "      <th>72</th>\n",
       "      <td>Rodneyfort</td>\n",
       "      <td>34</td>\n",
       "      <td>Urban</td>\n",
       "      <td>2018-02-03 00:48:41</td>\n",
       "      <td>44.86</td>\n",
       "      <td>2325699544245</td>\n",
       "    </tr>\n",
       "    <tr>\n",
       "      <th>73</th>\n",
       "      <td>Rodneyfort</td>\n",
       "      <td>34</td>\n",
       "      <td>Urban</td>\n",
       "      <td>2018-04-25 20:57:43</td>\n",
       "      <td>21.70</td>\n",
       "      <td>8534600667414</td>\n",
       "    </tr>\n",
       "    <tr>\n",
       "      <th>74</th>\n",
       "      <td>Rodneyfort</td>\n",
       "      <td>34</td>\n",
       "      <td>Urban</td>\n",
       "      <td>2018-01-30 12:34:42</td>\n",
       "      <td>16.99</td>\n",
       "      <td>5778730523049</td>\n",
       "    </tr>\n",
       "    <tr>\n",
       "      <th>93</th>\n",
       "      <td>West Robert</td>\n",
       "      <td>39</td>\n",
       "      <td>Urban</td>\n",
       "      <td>2018-02-15 04:21:47</td>\n",
       "      <td>12.28</td>\n",
       "      <td>1442502460354</td>\n",
       "    </tr>\n",
       "    <tr>\n",
       "      <th>94</th>\n",
       "      <td>West Robert</td>\n",
       "      <td>39</td>\n",
       "      <td>Urban</td>\n",
       "      <td>2018-04-05 03:18:56</td>\n",
       "      <td>44.58</td>\n",
       "      <td>4246011046064</td>\n",
       "    </tr>\n",
       "    <tr>\n",
       "      <th>95</th>\n",
       "      <td>West Robert</td>\n",
       "      <td>39</td>\n",
       "      <td>Urban</td>\n",
       "      <td>2018-01-21 17:21:50</td>\n",
       "      <td>27.11</td>\n",
       "      <td>1369907297609</td>\n",
       "    </tr>\n",
       "    <tr>\n",
       "      <th>96</th>\n",
       "      <td>West Robert</td>\n",
       "      <td>39</td>\n",
       "      <td>Urban</td>\n",
       "      <td>2018-04-13 06:56:12</td>\n",
       "      <td>32.94</td>\n",
       "      <td>9603611942427</td>\n",
       "    </tr>\n",
       "    <tr>\n",
       "      <th>97</th>\n",
       "      <td>West Robert</td>\n",
       "      <td>39</td>\n",
       "      <td>Urban</td>\n",
       "      <td>2018-01-04 06:10:40</td>\n",
       "      <td>35.35</td>\n",
       "      <td>9554287895527</td>\n",
       "    </tr>\n",
       "    <tr>\n",
       "      <th>124</th>\n",
       "      <td>West Anthony</td>\n",
       "      <td>70</td>\n",
       "      <td>Urban</td>\n",
       "      <td>2018-03-06 02:27:01</td>\n",
       "      <td>10.02</td>\n",
       "      <td>9396763280782</td>\n",
       "    </tr>\n",
       "    <tr>\n",
       "      <th>125</th>\n",
       "      <td>West Anthony</td>\n",
       "      <td>70</td>\n",
       "      <td>Urban</td>\n",
       "      <td>2018-01-23 12:32:46</td>\n",
       "      <td>23.24</td>\n",
       "      <td>596601397101</td>\n",
       "    </tr>\n",
       "    <tr>\n",
       "      <th>126</th>\n",
       "      <td>West Anthony</td>\n",
       "      <td>70</td>\n",
       "      <td>Urban</td>\n",
       "      <td>2018-02-24 06:14:16</td>\n",
       "      <td>39.20</td>\n",
       "      <td>8491405671407</td>\n",
       "    </tr>\n",
       "    <tr>\n",
       "      <th>127</th>\n",
       "      <td>West Anthony</td>\n",
       "      <td>70</td>\n",
       "      <td>Urban</td>\n",
       "      <td>2018-03-17 00:30:34</td>\n",
       "      <td>35.42</td>\n",
       "      <td>4561324147940</td>\n",
       "    </tr>\n",
       "    <tr>\n",
       "      <th>128</th>\n",
       "      <td>West Anthony</td>\n",
       "      <td>70</td>\n",
       "      <td>Urban</td>\n",
       "      <td>2018-01-10 02:31:33</td>\n",
       "      <td>32.34</td>\n",
       "      <td>1479317039864</td>\n",
       "    </tr>\n",
       "    <tr>\n",
       "      <th>...</th>\n",
       "      <td>...</td>\n",
       "      <td>...</td>\n",
       "      <td>...</td>\n",
       "      <td>...</td>\n",
       "      <td>...</td>\n",
       "      <td>...</td>\n",
       "    </tr>\n",
       "    <tr>\n",
       "      <th>2335</th>\n",
       "      <td>South Marychester</td>\n",
       "      <td>1</td>\n",
       "      <td>Rural</td>\n",
       "      <td>2018-02-21 19:16:48</td>\n",
       "      <td>55.40</td>\n",
       "      <td>8822356392057</td>\n",
       "    </tr>\n",
       "    <tr>\n",
       "      <th>2336</th>\n",
       "      <td>South Marychester</td>\n",
       "      <td>1</td>\n",
       "      <td>Rural</td>\n",
       "      <td>2018-01-15 21:44:26</td>\n",
       "      <td>30.26</td>\n",
       "      <td>3837056996776</td>\n",
       "    </tr>\n",
       "    <tr>\n",
       "      <th>2337</th>\n",
       "      <td>South Marychester</td>\n",
       "      <td>1</td>\n",
       "      <td>Rural</td>\n",
       "      <td>2018-03-27 12:07:50</td>\n",
       "      <td>34.42</td>\n",
       "      <td>4230150157651</td>\n",
       "    </tr>\n",
       "    <tr>\n",
       "      <th>2341</th>\n",
       "      <td>Garzaport</td>\n",
       "      <td>7</td>\n",
       "      <td>Rural</td>\n",
       "      <td>2018-02-18 18:27:48</td>\n",
       "      <td>36.16</td>\n",
       "      <td>2928337561347</td>\n",
       "    </tr>\n",
       "    <tr>\n",
       "      <th>2342</th>\n",
       "      <td>Garzaport</td>\n",
       "      <td>7</td>\n",
       "      <td>Rural</td>\n",
       "      <td>2018-04-17 01:48:27</td>\n",
       "      <td>17.31</td>\n",
       "      <td>6092414045061</td>\n",
       "    </tr>\n",
       "    <tr>\n",
       "      <th>2343</th>\n",
       "      <td>Garzaport</td>\n",
       "      <td>7</td>\n",
       "      <td>Rural</td>\n",
       "      <td>2018-05-06 16:57:16</td>\n",
       "      <td>18.90</td>\n",
       "      <td>8826696981094</td>\n",
       "    </tr>\n",
       "    <tr>\n",
       "      <th>2344</th>\n",
       "      <td>Bradshawfurt</td>\n",
       "      <td>7</td>\n",
       "      <td>Rural</td>\n",
       "      <td>2018-03-06 21:44:53</td>\n",
       "      <td>19.74</td>\n",
       "      <td>6080367372860</td>\n",
       "    </tr>\n",
       "    <tr>\n",
       "      <th>2345</th>\n",
       "      <td>Bradshawfurt</td>\n",
       "      <td>7</td>\n",
       "      <td>Rural</td>\n",
       "      <td>2018-03-24 18:53:18</td>\n",
       "      <td>57.51</td>\n",
       "      <td>2301998876294</td>\n",
       "    </tr>\n",
       "    <tr>\n",
       "      <th>2346</th>\n",
       "      <td>Bradshawfurt</td>\n",
       "      <td>7</td>\n",
       "      <td>Rural</td>\n",
       "      <td>2018-03-24 07:34:03</td>\n",
       "      <td>19.89</td>\n",
       "      <td>7867402022145</td>\n",
       "    </tr>\n",
       "    <tr>\n",
       "      <th>2347</th>\n",
       "      <td>Bradshawfurt</td>\n",
       "      <td>7</td>\n",
       "      <td>Rural</td>\n",
       "      <td>2018-02-18 22:21:26</td>\n",
       "      <td>34.32</td>\n",
       "      <td>8881996813087</td>\n",
       "    </tr>\n",
       "    <tr>\n",
       "      <th>2348</th>\n",
       "      <td>Bradshawfurt</td>\n",
       "      <td>7</td>\n",
       "      <td>Rural</td>\n",
       "      <td>2018-04-08 13:46:03</td>\n",
       "      <td>55.19</td>\n",
       "      <td>1742954306812</td>\n",
       "    </tr>\n",
       "    <tr>\n",
       "      <th>2354</th>\n",
       "      <td>New Ryantown</td>\n",
       "      <td>2</td>\n",
       "      <td>Rural</td>\n",
       "      <td>2018-01-27 17:33:41</td>\n",
       "      <td>42.68</td>\n",
       "      <td>7994603753131</td>\n",
       "    </tr>\n",
       "    <tr>\n",
       "      <th>2355</th>\n",
       "      <td>New Ryantown</td>\n",
       "      <td>2</td>\n",
       "      <td>Rural</td>\n",
       "      <td>2018-04-18 19:43:54</td>\n",
       "      <td>42.97</td>\n",
       "      <td>230914178346</td>\n",
       "    </tr>\n",
       "    <tr>\n",
       "      <th>2356</th>\n",
       "      <td>New Ryantown</td>\n",
       "      <td>2</td>\n",
       "      <td>Rural</td>\n",
       "      <td>2018-02-04 23:54:51</td>\n",
       "      <td>45.70</td>\n",
       "      <td>3570428225530</td>\n",
       "    </tr>\n",
       "    <tr>\n",
       "      <th>2357</th>\n",
       "      <td>New Ryantown</td>\n",
       "      <td>2</td>\n",
       "      <td>Rural</td>\n",
       "      <td>2018-04-30 01:50:44</td>\n",
       "      <td>50.81</td>\n",
       "      <td>5357550405010</td>\n",
       "    </tr>\n",
       "    <tr>\n",
       "      <th>2358</th>\n",
       "      <td>New Ryantown</td>\n",
       "      <td>2</td>\n",
       "      <td>Rural</td>\n",
       "      <td>2018-04-05 21:38:18</td>\n",
       "      <td>50.98</td>\n",
       "      <td>4834855490008</td>\n",
       "    </tr>\n",
       "    <tr>\n",
       "      <th>2360</th>\n",
       "      <td>Randallchester</td>\n",
       "      <td>9</td>\n",
       "      <td>Rural</td>\n",
       "      <td>2018-04-13 11:13:31</td>\n",
       "      <td>43.22</td>\n",
       "      <td>1076079536213</td>\n",
       "    </tr>\n",
       "    <tr>\n",
       "      <th>2361</th>\n",
       "      <td>Randallchester</td>\n",
       "      <td>9</td>\n",
       "      <td>Rural</td>\n",
       "      <td>2018-02-19 03:52:47</td>\n",
       "      <td>58.55</td>\n",
       "      <td>8004803682564</td>\n",
       "    </tr>\n",
       "    <tr>\n",
       "      <th>2362</th>\n",
       "      <td>Randallchester</td>\n",
       "      <td>9</td>\n",
       "      <td>Rural</td>\n",
       "      <td>2018-02-11 05:42:29</td>\n",
       "      <td>25.78</td>\n",
       "      <td>9010611749008</td>\n",
       "    </tr>\n",
       "    <tr>\n",
       "      <th>2363</th>\n",
       "      <td>Randallchester</td>\n",
       "      <td>9</td>\n",
       "      <td>Rural</td>\n",
       "      <td>2018-03-25 13:36:46</td>\n",
       "      <td>10.37</td>\n",
       "      <td>3216382725494</td>\n",
       "    </tr>\n",
       "    <tr>\n",
       "      <th>2364</th>\n",
       "      <td>Randallchester</td>\n",
       "      <td>9</td>\n",
       "      <td>Rural</td>\n",
       "      <td>2018-04-07 23:42:07</td>\n",
       "      <td>10.79</td>\n",
       "      <td>1615474447641</td>\n",
       "    </tr>\n",
       "    <tr>\n",
       "      <th>2365</th>\n",
       "      <td>Jessicaport</td>\n",
       "      <td>1</td>\n",
       "      <td>Rural</td>\n",
       "      <td>2018-01-01 09:45:36</td>\n",
       "      <td>43.69</td>\n",
       "      <td>2424875833354</td>\n",
       "    </tr>\n",
       "    <tr>\n",
       "      <th>2366</th>\n",
       "      <td>Jessicaport</td>\n",
       "      <td>1</td>\n",
       "      <td>Rural</td>\n",
       "      <td>2018-01-14 07:09:17</td>\n",
       "      <td>18.05</td>\n",
       "      <td>5405362355006</td>\n",
       "    </tr>\n",
       "    <tr>\n",
       "      <th>2367</th>\n",
       "      <td>Jessicaport</td>\n",
       "      <td>1</td>\n",
       "      <td>Rural</td>\n",
       "      <td>2018-04-13 16:08:11</td>\n",
       "      <td>39.89</td>\n",
       "      <td>6511242590852</td>\n",
       "    </tr>\n",
       "    <tr>\n",
       "      <th>2368</th>\n",
       "      <td>Jessicaport</td>\n",
       "      <td>1</td>\n",
       "      <td>Rural</td>\n",
       "      <td>2018-03-18 16:59:40</td>\n",
       "      <td>33.72</td>\n",
       "      <td>3046889917159</td>\n",
       "    </tr>\n",
       "    <tr>\n",
       "      <th>2369</th>\n",
       "      <td>Jessicaport</td>\n",
       "      <td>1</td>\n",
       "      <td>Rural</td>\n",
       "      <td>2018-05-01 08:14:47</td>\n",
       "      <td>22.44</td>\n",
       "      <td>3725278487786</td>\n",
       "    </tr>\n",
       "    <tr>\n",
       "      <th>2371</th>\n",
       "      <td>South Saramouth</td>\n",
       "      <td>7</td>\n",
       "      <td>Rural</td>\n",
       "      <td>2018-02-20 16:32:36</td>\n",
       "      <td>44.29</td>\n",
       "      <td>3622365199969</td>\n",
       "    </tr>\n",
       "    <tr>\n",
       "      <th>2372</th>\n",
       "      <td>South Saramouth</td>\n",
       "      <td>7</td>\n",
       "      <td>Rural</td>\n",
       "      <td>2018-01-28 15:55:33</td>\n",
       "      <td>31.25</td>\n",
       "      <td>7118046558393</td>\n",
       "    </tr>\n",
       "    <tr>\n",
       "      <th>2373</th>\n",
       "      <td>South Saramouth</td>\n",
       "      <td>7</td>\n",
       "      <td>Rural</td>\n",
       "      <td>2018-03-27 21:07:16</td>\n",
       "      <td>11.87</td>\n",
       "      <td>170351888128</td>\n",
       "    </tr>\n",
       "    <tr>\n",
       "      <th>2374</th>\n",
       "      <td>South Saramouth</td>\n",
       "      <td>7</td>\n",
       "      <td>Rural</td>\n",
       "      <td>2018-04-12 18:11:50</td>\n",
       "      <td>57.23</td>\n",
       "      <td>5081198789583</td>\n",
       "    </tr>\n",
       "  </tbody>\n",
       "</table>\n",
       "<p>596 rows × 6 columns</p>\n",
       "</div>"
      ],
      "text/plain": [
       "                   city  driver_count   type                 date   fare  \\\n",
       "0           Richardfort            38  Urban  2018-02-24 08:40:38  13.93   \n",
       "1           Richardfort            38  Urban  2018-02-13 12:46:07  14.00   \n",
       "2           Richardfort            38  Urban  2018-02-16 13:52:19  17.92   \n",
       "3           Richardfort            38  Urban  2018-02-01 20:18:28  10.26   \n",
       "4           Richardfort            38  Urban  2018-04-17 02:26:37  23.00   \n",
       "28         Williamsstad            59  Urban  2018-01-23 17:51:24  19.62   \n",
       "29         Williamsstad            59  Urban  2018-03-29 21:43:04  35.58   \n",
       "30         Williamsstad            59  Urban  2018-02-13 20:07:49  33.72   \n",
       "31         Williamsstad            59  Urban  2018-05-01 01:26:21  26.81   \n",
       "32         Williamsstad            59  Urban  2018-02-23 17:42:40   4.68   \n",
       "51          Port Angela            67  Urban  2018-04-17 06:23:18  16.34   \n",
       "52          Port Angela            67  Urban  2018-03-31 15:22:26  30.77   \n",
       "53          Port Angela            67  Urban  2018-04-09 14:34:27  11.90   \n",
       "54          Port Angela            67  Urban  2018-02-08 16:30:53  30.38   \n",
       "55          Port Angela            67  Urban  2018-03-04 03:26:39  40.35   \n",
       "70           Rodneyfort            34  Urban  2018-02-10 23:22:03  23.44   \n",
       "71           Rodneyfort            34  Urban  2018-03-02 18:03:20  44.26   \n",
       "72           Rodneyfort            34  Urban  2018-02-03 00:48:41  44.86   \n",
       "73           Rodneyfort            34  Urban  2018-04-25 20:57:43  21.70   \n",
       "74           Rodneyfort            34  Urban  2018-01-30 12:34:42  16.99   \n",
       "93          West Robert            39  Urban  2018-02-15 04:21:47  12.28   \n",
       "94          West Robert            39  Urban  2018-04-05 03:18:56  44.58   \n",
       "95          West Robert            39  Urban  2018-01-21 17:21:50  27.11   \n",
       "96          West Robert            39  Urban  2018-04-13 06:56:12  32.94   \n",
       "97          West Robert            39  Urban  2018-01-04 06:10:40  35.35   \n",
       "124        West Anthony            70  Urban  2018-03-06 02:27:01  10.02   \n",
       "125        West Anthony            70  Urban  2018-01-23 12:32:46  23.24   \n",
       "126        West Anthony            70  Urban  2018-02-24 06:14:16  39.20   \n",
       "127        West Anthony            70  Urban  2018-03-17 00:30:34  35.42   \n",
       "128        West Anthony            70  Urban  2018-01-10 02:31:33  32.34   \n",
       "...                 ...           ...    ...                  ...    ...   \n",
       "2335  South Marychester             1  Rural  2018-02-21 19:16:48  55.40   \n",
       "2336  South Marychester             1  Rural  2018-01-15 21:44:26  30.26   \n",
       "2337  South Marychester             1  Rural  2018-03-27 12:07:50  34.42   \n",
       "2341          Garzaport             7  Rural  2018-02-18 18:27:48  36.16   \n",
       "2342          Garzaport             7  Rural  2018-04-17 01:48:27  17.31   \n",
       "2343          Garzaport             7  Rural  2018-05-06 16:57:16  18.90   \n",
       "2344       Bradshawfurt             7  Rural  2018-03-06 21:44:53  19.74   \n",
       "2345       Bradshawfurt             7  Rural  2018-03-24 18:53:18  57.51   \n",
       "2346       Bradshawfurt             7  Rural  2018-03-24 07:34:03  19.89   \n",
       "2347       Bradshawfurt             7  Rural  2018-02-18 22:21:26  34.32   \n",
       "2348       Bradshawfurt             7  Rural  2018-04-08 13:46:03  55.19   \n",
       "2354       New Ryantown             2  Rural  2018-01-27 17:33:41  42.68   \n",
       "2355       New Ryantown             2  Rural  2018-04-18 19:43:54  42.97   \n",
       "2356       New Ryantown             2  Rural  2018-02-04 23:54:51  45.70   \n",
       "2357       New Ryantown             2  Rural  2018-04-30 01:50:44  50.81   \n",
       "2358       New Ryantown             2  Rural  2018-04-05 21:38:18  50.98   \n",
       "2360     Randallchester             9  Rural  2018-04-13 11:13:31  43.22   \n",
       "2361     Randallchester             9  Rural  2018-02-19 03:52:47  58.55   \n",
       "2362     Randallchester             9  Rural  2018-02-11 05:42:29  25.78   \n",
       "2363     Randallchester             9  Rural  2018-03-25 13:36:46  10.37   \n",
       "2364     Randallchester             9  Rural  2018-04-07 23:42:07  10.79   \n",
       "2365        Jessicaport             1  Rural  2018-01-01 09:45:36  43.69   \n",
       "2366        Jessicaport             1  Rural  2018-01-14 07:09:17  18.05   \n",
       "2367        Jessicaport             1  Rural  2018-04-13 16:08:11  39.89   \n",
       "2368        Jessicaport             1  Rural  2018-03-18 16:59:40  33.72   \n",
       "2369        Jessicaport             1  Rural  2018-05-01 08:14:47  22.44   \n",
       "2371    South Saramouth             7  Rural  2018-02-20 16:32:36  44.29   \n",
       "2372    South Saramouth             7  Rural  2018-01-28 15:55:33  31.25   \n",
       "2373    South Saramouth             7  Rural  2018-03-27 21:07:16  11.87   \n",
       "2374    South Saramouth             7  Rural  2018-04-12 18:11:50  57.23   \n",
       "\n",
       "            ride_id  \n",
       "0     5628545007794  \n",
       "1      910050116494  \n",
       "2      820639054416  \n",
       "3     9554935945413  \n",
       "4      720020655850  \n",
       "28     125986195523  \n",
       "29    4747780858464  \n",
       "30    3796713212942  \n",
       "31    4542954169892  \n",
       "32    9109973457376  \n",
       "51    7120534266772  \n",
       "52     662264490197  \n",
       "53    7009806605900  \n",
       "54    5165542108944  \n",
       "55    4930810733132  \n",
       "70    5149245426178  \n",
       "71    2494064867705  \n",
       "72    2325699544245  \n",
       "73    8534600667414  \n",
       "74    5778730523049  \n",
       "93    1442502460354  \n",
       "94    4246011046064  \n",
       "95    1369907297609  \n",
       "96    9603611942427  \n",
       "97    9554287895527  \n",
       "124   9396763280782  \n",
       "125    596601397101  \n",
       "126   8491405671407  \n",
       "127   4561324147940  \n",
       "128   1479317039864  \n",
       "...             ...  \n",
       "2335  8822356392057  \n",
       "2336  3837056996776  \n",
       "2337  4230150157651  \n",
       "2341  2928337561347  \n",
       "2342  6092414045061  \n",
       "2343  8826696981094  \n",
       "2344  6080367372860  \n",
       "2345  2301998876294  \n",
       "2346  7867402022145  \n",
       "2347  8881996813087  \n",
       "2348  1742954306812  \n",
       "2354  7994603753131  \n",
       "2355   230914178346  \n",
       "2356  3570428225530  \n",
       "2357  5357550405010  \n",
       "2358  4834855490008  \n",
       "2360  1076079536213  \n",
       "2361  8004803682564  \n",
       "2362  9010611749008  \n",
       "2363  3216382725494  \n",
       "2364  1615474447641  \n",
       "2365  2424875833354  \n",
       "2366  5405362355006  \n",
       "2367  6511242590852  \n",
       "2368  3046889917159  \n",
       "2369  3725278487786  \n",
       "2371  3622365199969  \n",
       "2372  7118046558393  \n",
       "2373   170351888128  \n",
       "2374  5081198789583  \n",
       "\n",
       "[596 rows x 6 columns]"
      ]
     },
     "execution_count": 38,
     "metadata": {},
     "output_type": "execute_result"
    }
   ],
   "source": [
    "#Average Fare\n",
    "CityType = merge_table.groupby(\"city\")\n",
    "CityType.head()"
   ]
  },
  {
   "cell_type": "code",
   "execution_count": 35,
   "metadata": {},
   "outputs": [
    {
     "data": {
      "text/plain": [
       "city\n",
       "Amandaburgh      24.641667\n",
       "Barajasview      25.332273\n",
       "Barronchester    36.422500\n",
       "Bethanyland      32.956111\n",
       "Bradshawfurt     40.064000\n",
       "Name: fare, dtype: float64"
      ]
     },
     "execution_count": 35,
     "metadata": {},
     "output_type": "execute_result"
    }
   ],
   "source": [
    "CityY = CityType[\"fare\"].mean()\n",
    "CityY.head()"
   ]
  },
  {
   "cell_type": "code",
   "execution_count": 36,
   "metadata": {},
   "outputs": [
    {
     "data": {
      "text/plain": [
       "city\n",
       "Amandaburgh      [12]\n",
       "Barajasview      [26]\n",
       "Barronchester    [11]\n",
       "Bethanyland      [22]\n",
       "Bradshawfurt      [7]\n",
       "Name: driver_count, dtype: object"
      ]
     },
     "execution_count": 36,
     "metadata": {},
     "output_type": "execute_result"
    }
   ],
   "source": [
    "#Total Number of drivers per city\n",
    "drivercity = merge_table.groupby(\"city\")[\"driver_count\"].unique()\n",
    "drivercity.head()\n"
   ]
  },
  {
   "cell_type": "code",
   "execution_count": 42,
   "metadata": {},
   "outputs": [],
   "source": [
    "# Build the scatter plots for each city types\n",
    "plt.scatter(x_axis, CityY, s=CityType, alpha=0.5)\n",
    "#plt.show()\n"
   ]
  },
  {
   "cell_type": "code",
   "execution_count": 8,
   "metadata": {},
   "outputs": [],
   "source": [
    "# Incorporate the other graph properties\n"
   ]
  },
  {
   "cell_type": "code",
   "execution_count": 9,
   "metadata": {},
   "outputs": [],
   "source": [
    "# Create a legend\n",
    "#plt.legend(handles=[Urban, Suburban, Rural], loc=\"best\")"
   ]
  },
  {
   "cell_type": "code",
   "execution_count": 10,
   "metadata": {},
   "outputs": [],
   "source": [
    "# Incorporate a text label regarding circle size\n"
   ]
  },
  {
   "cell_type": "code",
   "execution_count": 11,
   "metadata": {},
   "outputs": [],
   "source": [
    "# Save Figure\n",
    "#plt.savefig(\"../data/ridesharebubble.png\")\n"
   ]
  },
  {
   "cell_type": "code",
   "execution_count": 12,
   "metadata": {},
   "outputs": [],
   "source": [
    "# Show plot\n",
    "plt.show()"
   ]
  },
  {
   "cell_type": "markdown",
   "metadata": {},
   "source": [
    "## Total Fares by City Type"
   ]
  },
  {
   "cell_type": "code",
   "execution_count": 20,
   "metadata": {},
   "outputs": [
    {
     "data": {
      "text/plain": [
       "type\n",
       "Rural        4327.93\n",
       "Suburban    19356.33\n",
       "Urban       39854.38\n",
       "Name: fare, dtype: float64"
      ]
     },
     "execution_count": 20,
     "metadata": {},
     "output_type": "execute_result"
    }
   ],
   "source": [
    "# Calculate Type Percents\n",
    "TotalFares = CityType[\"fare\"].sum()\n",
    "TotalFares\n",
    "\n",
    "\n",
    "\n"
   ]
  },
  {
   "cell_type": "code",
   "execution_count": 21,
   "metadata": {},
   "outputs": [
    {
     "data": {
      "text/plain": [
       "63538.64"
      ]
     },
     "execution_count": 21,
     "metadata": {},
     "output_type": "execute_result"
    }
   ],
   "source": [
    "CityRides = merge_table[\"fare\"].sum()\n",
    "CityRides"
   ]
  },
  {
   "cell_type": "code",
   "execution_count": 22,
   "metadata": {},
   "outputs": [
    {
     "data": {
      "text/plain": [
       "6.811492974983412"
      ]
     },
     "execution_count": 22,
     "metadata": {},
     "output_type": "execute_result"
    }
   ],
   "source": [
    "#Percent of Fares by Type\n",
    "RuralFares = (TotalFares[\"Rural\"] / CityRides)*100\n",
    "RuralFares"
   ]
  },
  {
   "cell_type": "code",
   "execution_count": 23,
   "metadata": {},
   "outputs": [
    {
     "data": {
      "text/plain": [
       "30.46387206273221"
      ]
     },
     "execution_count": 23,
     "metadata": {},
     "output_type": "execute_result"
    }
   ],
   "source": [
    "SuburbanFares = (TotalFares[\"Suburban\"] / CityRides)*100\n",
    "SuburbanFares"
   ]
  },
  {
   "cell_type": "code",
   "execution_count": 24,
   "metadata": {},
   "outputs": [
    {
     "data": {
      "text/plain": [
       "62.72463496228436"
      ]
     },
     "execution_count": 24,
     "metadata": {},
     "output_type": "execute_result"
    }
   ],
   "source": [
    "UrbanFares = (TotalFares[\"Urban\"] / CityRides)*100\n",
    "UrbanFares"
   ]
  },
  {
   "cell_type": "code",
   "execution_count": 25,
   "metadata": {},
   "outputs": [
    {
     "data": {
      "text/plain": [
       "0     6.811493\n",
       "1    30.463872\n",
       "2    62.724635\n",
       "Name: Percentage of Fares, dtype: float64"
      ]
     },
     "execution_count": 25,
     "metadata": {},
     "output_type": "execute_result"
    }
   ],
   "source": [
    "summary_tablefares = pd.DataFrame({\"Percentage of Fares\": [RuralFares, SuburbanFares, UrbanFares]})\n",
    "summary_tablefares = summary_tablefares[summary_tablefares.columns[0]]\n",
    "summary_tablefares"
   ]
  },
  {
   "cell_type": "code",
   "execution_count": 26,
   "metadata": {
    "scrolled": true
   },
   "outputs": [
    {
     "data": {
      "text/plain": [
       "(-1.116703108059631,\n",
       " 1.197266450606346,\n",
       " -1.1123788383456472,\n",
       " 1.1610996829807194)"
      ]
     },
     "execution_count": 26,
     "metadata": {},
     "output_type": "execute_result"
    },
    {
     "data": {
      "image/png": "[encoded data removed]",
      "text/plain": [
       "<Figure size 432x288 with 1 Axes>"
      ]
     },
     "metadata": {},
     "output_type": "display_data"
    }
   ],
   "source": [
    "# Build Pie Chart\n",
    "# Tell matplotlib to create a pie chart based upon the above data\n",
    "labels = [\"Rural\", \"Suburban\", \"Urban\"]\n",
    "colors = [\"yellow\",\"lightskyblue\",\"lightcoral\"]\n",
    "explode = (0,0,0.1,)\n",
    "plt.pie(summary_tablefares, explode=explode, labels=labels, colors=colors, autopct=\"%1.1f%%\", shadow=True,  startangle=140)\n",
    "# Create axes which are equal so we have a perfect circle\n",
    "plt.axis(\"equal\")"
   ]
  },
  {
   "cell_type": "code",
   "execution_count": 20,
   "metadata": {},
   "outputs": [],
   "source": [
    "# Save Figure\n",
    "plt.savefig(\"../data/ridesharefare.png\")"
   ]
  },
  {
   "cell_type": "code",
   "execution_count": 21,
   "metadata": {},
   "outputs": [],
   "source": [
    "# Show Figure\n",
    "plt.show()"
   ]
  },
  {
   "cell_type": "markdown",
   "metadata": {},
   "source": [
    "## Total Rides by City Type"
   ]
  },
  {
   "cell_type": "code",
   "execution_count": 16,
   "metadata": {},
   "outputs": [
    {
     "data": {
      "text/plain": [
       "type      city               \n",
       "Rural     Michaelberg            12\n",
       "          Lake Latoyabury        11\n",
       "          Bradshawfurt           10\n",
       "          North Holly             9\n",
       "          West Heather            9\n",
       "          North Jaime             8\n",
       "          South Marychester       8\n",
       "          South Jennifer          7\n",
       "          Harringtonfort          6\n",
       "          Jessicaport             6\n",
       "          Lake Jamie              6\n",
       "          New Ryantown            6\n",
       "          Taylorhaven             6\n",
       "          Penaborough             5\n",
       "          Randallchester          5\n",
       "          Newtonview              4\n",
       "          South Saramouth         4\n",
       "          Garzaport               3\n",
       "Suburban  East Marymouth         27\n",
       "          Josephside             27\n",
       "          Lake Robertside        25\n",
       "          South Brenda           24\n",
       "          Colemanland            22\n",
       "          New Raymond            22\n",
       "          South Teresa           22\n",
       "          West Hannah            21\n",
       "          West Kimmouth          20\n",
       "          Brandonfort            19\n",
       "          Nicolechester          19\n",
       "          Port Shane             19\n",
       "                                 ..\n",
       "Urban     Roberthaven            24\n",
       "          Simpsonburgh           24\n",
       "          Rodneyfort             23\n",
       "          West Gabriel           23\n",
       "          Williamsstad           23\n",
       "          Barajasview            22\n",
       "          New Paulville          22\n",
       "          North Barbara          22\n",
       "          Port David             22\n",
       "          Port Johnbury          22\n",
       "          Rogerston              22\n",
       "          Valentineton           22\n",
       "          Johnton                21\n",
       "          Leahton                21\n",
       "          Pattyland              21\n",
       "          Robertport             20\n",
       "          Williamsview           20\n",
       "          Deanville              19\n",
       "          New Paulton            19\n",
       "          Port Angela            19\n",
       "          Reynoldsfurt           19\n",
       "          South Jack             19\n",
       "          South Latoya           19\n",
       "          Amandaburgh            18\n",
       "          New Jacobville         18\n",
       "          West Ericstad          18\n",
       "          Karenberg              17\n",
       "          West Patrickchester    16\n",
       "          North Markport         14\n",
       "          Erikaland              12\n",
       "Name: city, Length: 120, dtype: int64"
      ]
     },
     "execution_count": 16,
     "metadata": {},
     "output_type": "execute_result"
    }
   ],
   "source": [
    "# Calculate Ride Percents\n",
    "RidesbyCity = merge_table.groupby(\"type\")[\"city\"].value_counts()\n",
    "RidesbyCity"
   ]
  },
  {
   "cell_type": "code",
   "execution_count": 28,
   "metadata": {},
   "outputs": [
    {
     "data": {
      "text/plain": [
       "2375"
      ]
     },
     "execution_count": 28,
     "metadata": {},
     "output_type": "execute_result"
    }
   ],
   "source": [
    "TotalRides = RidesbyCity.sum()\n",
    "TotalRides"
   ]
  },
  {
   "cell_type": "code",
   "execution_count": 29,
   "metadata": {},
   "outputs": [
    {
     "data": {
      "text/plain": [
       "city\n",
       "Michaelberg        0.505263\n",
       "Lake Latoyabury    0.463158\n",
       "Bradshawfurt       0.421053\n",
       "North Holly        0.378947\n",
       "West Heather       0.378947\n",
       "Name: city, dtype: float64"
      ]
     },
     "execution_count": 29,
     "metadata": {},
     "output_type": "execute_result"
    }
   ],
   "source": [
    "RuralRides = (RidesbyCity[\"Rural\"] / TotalRides)*100\n",
    "RuralRides.head()"
   ]
  },
  {
   "cell_type": "code",
   "execution_count": 31,
   "metadata": {},
   "outputs": [
    {
     "data": {
      "text/plain": [
       "city\n",
       "East Marymouth     1.136842\n",
       "Josephside         1.136842\n",
       "Lake Robertside    1.052632\n",
       "South Brenda       1.010526\n",
       "Colemanland        0.926316\n",
       "Name: city, dtype: float64"
      ]
     },
     "execution_count": 31,
     "metadata": {},
     "output_type": "execute_result"
    }
   ],
   "source": [
    "SuburbanRides = (RidesbyCity[\"Suburban\"] / TotalRides)*100\n",
    "SuburbanRides.head()"
   ]
  },
  {
   "cell_type": "code",
   "execution_count": 32,
   "metadata": {},
   "outputs": [
    {
     "data": {
      "text/plain": [
       "city\n",
       "West Angela        1.642105\n",
       "South Karenland    1.600000\n",
       "North Jason        1.473684\n",
       "Liumouth           1.389474\n",
       "Port Frank         1.389474\n",
       "Name: city, dtype: float64"
      ]
     },
     "execution_count": 32,
     "metadata": {},
     "output_type": "execute_result"
    }
   ],
   "source": [
    "UrbanRides = (RidesbyCity[\"Urban\"] / TotalRides)*100\n",
    "UrbanRides.head()"
   ]
  },
  {
   "cell_type": "code",
   "execution_count": 33,
   "metadata": {},
   "outputs": [
    {
     "data": {
      "text/plain": [
       "5.263157894736842"
      ]
     },
     "execution_count": 33,
     "metadata": {},
     "output_type": "execute_result"
    }
   ],
   "source": [
    "TotRuralRides = RuralRides.sum()\n",
    "TotRuralRides"
   ]
  },
  {
   "cell_type": "code",
   "execution_count": 34,
   "metadata": {},
   "outputs": [
    {
     "data": {
      "text/plain": [
       "26.315789473684212"
      ]
     },
     "execution_count": 34,
     "metadata": {},
     "output_type": "execute_result"
    }
   ],
   "source": [
    "TotSuburbanRides = SuburbanRides.sum()\n",
    "TotSuburbanRides"
   ]
  },
  {
   "cell_type": "code",
   "execution_count": 35,
   "metadata": {},
   "outputs": [
    {
     "data": {
      "text/plain": [
       "68.42105263157895"
      ]
     },
     "execution_count": 35,
     "metadata": {},
     "output_type": "execute_result"
    }
   ],
   "source": [
    "TotUrbanRides = UrbanRides.sum()\n",
    "TotUrbanRides"
   ]
  },
  {
   "cell_type": "code",
   "execution_count": 36,
   "metadata": {},
   "outputs": [
    {
     "data": {
      "text/plain": [
       "0     5.263158\n",
       "1    26.315789\n",
       "2    68.421053\n",
       "Name: Percentage of Rides by City Type, dtype: float64"
      ]
     },
     "execution_count": 36,
     "metadata": {},
     "output_type": "execute_result"
    }
   ],
   "source": [
    "summary_tablerides = pd.DataFrame({\"Percentage of Rides by City Type\": [TotRuralRides, TotSuburbanRides, TotUrbanRides]})\n",
    "summary_tablerides = summary_tablerides[summary_tablerides.columns[0]]\n",
    "summary_tablerides"
   ]
  },
  {
   "cell_type": "code",
   "execution_count": 37,
   "metadata": {},
   "outputs": [
    {
     "data": {
      "text/plain": [
       "(-1.1110420108142822,\n",
       " 1.215408844786391,\n",
       " -1.085782351148256,\n",
       " 1.1462471637001541)"
      ]
     },
     "execution_count": 37,
     "metadata": {},
     "output_type": "execute_result"
    },
    {
     "data": {
      "image/png": "[encoded data removed]",
      "text/plain": [
       "<Figure size 432x288 with 1 Axes>"
      ]
     },
     "metadata": {},
     "output_type": "display_data"
    }
   ],
   "source": [
    "# Build Pie Chart\n",
    "# Tell matplotlib to create a pie chart based upon the above data\n",
    "labels = [\"Rural\", \"Suburban\", \"Urban\"]\n",
    "colors = [\"yellow\",\"lightskyblue\",\"lightcoral\"]\n",
    "explode = (0,0,0.1)\n",
    "plt.pie(summary_tablerides, explode=explode, labels=labels, colors=colors,\n",
    "        autopct=\"%1.1f%%\", shadow=True, startangle=140)\n",
    "# Create axes which are equal so we have a perfect circle\n",
    "plt.axis(\"equal\")\n"
   ]
  },
  {
   "cell_type": "code",
   "execution_count": 33,
   "metadata": {},
   "outputs": [],
   "source": [
    "# Save Figure\n",
    "plt.savefig(\"../data/ridesharetotrides.png\")"
   ]
  },
  {
   "cell_type": "code",
   "execution_count": 34,
   "metadata": {},
   "outputs": [],
   "source": [
    "# Show Figure\n",
    "plt.show()"
   ]
  },
  {
   "cell_type": "markdown",
   "metadata": {},
   "source": [
    "## Total Drivers by City Type"
   ]
  },
  {
   "cell_type": "code",
   "execution_count": 12,
   "metadata": {},
   "outputs": [
    {
     "data": {
      "text/plain": [
       "2973"
      ]
     },
     "execution_count": 12,
     "metadata": {},
     "output_type": "execute_result"
    }
   ],
   "source": [
    "# Calculate Driver Percents\n",
    "TotalDrivers = city_data[\"driver_count\"].sum()\n",
    "TotalDrivers"
   ]
  },
  {
   "cell_type": "code",
   "execution_count": 5,
   "metadata": {},
   "outputs": [
    {
     "data": {
      "text/plain": [
       "78"
      ]
     },
     "execution_count": 5,
     "metadata": {},
     "output_type": "execute_result"
    }
   ],
   "source": [
    "RuralDrivers = city_data.loc[city_data[\"type\"]==\"Rural\"][\"driver_count\"].sum()\n",
    "RuralDrivers"
   ]
  },
  {
   "cell_type": "code",
   "execution_count": 6,
   "metadata": {},
   "outputs": [
    {
     "data": {
      "text/plain": [
       "490"
      ]
     },
     "execution_count": 6,
     "metadata": {},
     "output_type": "execute_result"
    }
   ],
   "source": [
    "SuburbanDrivers = city_data.loc[city_data['type']=='Suburban'][\"driver_count\"].sum()\n",
    "SuburbanDrivers"
   ]
  },
  {
   "cell_type": "code",
   "execution_count": 7,
   "metadata": {},
   "outputs": [
    {
     "data": {
      "text/plain": [
       "2405"
      ]
     },
     "execution_count": 7,
     "metadata": {},
     "output_type": "execute_result"
    }
   ],
   "source": [
    "UrbanDrivers = city_data.loc[city_data['type']=='Urban'][\"driver_count\"].sum()\n",
    "UrbanDrivers"
   ]
  },
  {
   "cell_type": "code",
   "execution_count": 16,
   "metadata": {},
   "outputs": [
    {
     "data": {
      "text/plain": [
       "0.026236125126135216"
      ]
     },
     "execution_count": 16,
     "metadata": {},
     "output_type": "execute_result"
    }
   ],
   "source": [
    "RuralDriversPer = (RuralDrivers/TotalDrivers)*100\n",
    "RuralDriversPer"
   ]
  },
  {
   "cell_type": "code",
   "execution_count": 17,
   "metadata": {},
   "outputs": [
    {
     "data": {
      "text/plain": [
       "16.481668348469558"
      ]
     },
     "execution_count": 17,
     "metadata": {},
     "output_type": "execute_result"
    }
   ],
   "source": [
    "SuburbanDriversPer =(SuburbanDrivers/TotalDrivers)*100\n",
    "SuburbanDriversPer"
   ]
  },
  {
   "cell_type": "code",
   "execution_count": 18,
   "metadata": {},
   "outputs": [
    {
     "data": {
      "text/plain": [
       "80.89471913891691"
      ]
     },
     "execution_count": 18,
     "metadata": {},
     "output_type": "execute_result"
    }
   ],
   "source": [
    "UrbanDriversPer = (UrbanDrivers/TotalDrivers)*100\n",
    "UrbanDriversPer"
   ]
  },
  {
   "cell_type": "code",
   "execution_count": 23,
   "metadata": {},
   "outputs": [
    {
     "data": {
      "text/plain": [
       "0      78\n",
       "1     490\n",
       "2    2405\n",
       "Name: Drivers by City Type, dtype: int64"
      ]
     },
     "execution_count": 23,
     "metadata": {},
     "output_type": "execute_result"
    }
   ],
   "source": [
    "# Build Pie Charts\n",
    "summary_tabledrivers = pd.DataFrame({\"Drivers by City Type\": [RuralDrivers, SuburbanDrivers, UrbanDrivers]})\n",
    "summary_tabledrivers = summary_tabledrivers[summary_tabledrivers.columns[0]]\n",
    "summary_tabledrivers"
   ]
  },
  {
   "cell_type": "code",
   "execution_count": 24,
   "metadata": {},
   "outputs": [
    {
     "data": {
      "text/plain": [
       "(-1.1079533131331436,\n",
       " 1.210488336220195,\n",
       " -1.1158855877672291,\n",
       " 1.0960571177251688)"
      ]
     },
     "execution_count": 24,
     "metadata": {},
     "output_type": "execute_result"
    },
    {
     "data": {
      "image/png": "[encoded data removed]",
      "text/plain": [
       "<Figure size 432x288 with 1 Axes>"
      ]
     },
     "metadata": {},
     "output_type": "display_data"
    }
   ],
   "source": [
    "# Build Pie Chart\n",
    "# SAME AS ABOVE, SO PAY ATTENTION TO ERRORS\n",
    "# Tell matplotlib to create a pie chart based upon the above data\n",
    "labels = [\"Rural\", \"Suburban\", \"Urban\"]\n",
    "colors = [\"yellow\",\"lightskyblue\",\"lightcoral\"]\n",
    "explode = (0,0,0.1)\n",
    "plt.pie(summary_tabledrivers, explode=explode, labels=labels, colors=colors,\n",
    "        autopct=\"%1.1f%%\", shadow=True, startangle=140)\n",
    "# Create axes which are equal so we have a perfect circle\n",
    "plt.axis(\"equal\")"
   ]
  },
  {
   "cell_type": "code",
   "execution_count": 39,
   "metadata": {},
   "outputs": [],
   "source": [
    "# Save Figure\n",
    "plt.savefig(\"../data/ridesharetotdrive.png\")"
   ]
  },
  {
   "cell_type": "code",
   "execution_count": 40,
   "metadata": {
    "scrolled": true
   },
   "outputs": [],
   "source": [
    "# Show Figure\n",
    "plt.show()"
   ]
  },
  {
   "cell_type": "code",
   "execution_count": null,
   "metadata": {},
   "outputs": [],
   "source": []
  }
 ],
 "metadata": {
  "anaconda-cloud": {},
  "kernelspec": {
   "display_name": "Python 3",
   "language": "python",
   "name": "python3"
  },
  "language_info": {
   "codemirror_mode": {
    "name": "ipython",
    "version": 3
   },
   "file_extension": ".py",
   "mimetype": "text/x-python",
   "name": "python",
   "nbconvert_exporter": "python",
   "pygments_lexer": "ipython3",
   "version": "3.7.3"
  }
 },
 "nbformat": 4,
 "nbformat_minor": 2
}
